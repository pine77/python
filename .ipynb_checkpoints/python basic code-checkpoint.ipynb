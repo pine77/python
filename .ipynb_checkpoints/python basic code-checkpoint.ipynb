{
 "cells": [
  {
   "cell_type": "code",
   "execution_count": 1,
   "id": "4599f0ba",
   "metadata": {},
   "outputs": [],
   "source": [
    "# If\n",
    "\n",
    "## 임의 정수(n)를 입력받은 후 0부터 n까지의 정수 중 짝수들의 합을 구하시오.\n",
    "\n",
    "# names = {'mary':1520, 'tom':5214, 'park':5478, 'sams':5478}\n",
    "# 이름을 입력받은 후 names dict에 이름이 있으면 값을 출력하고,\n",
    "# 없으면 새로운 값 2000과 함께 dict에 'key':'value'로 추가\n",
    "# setdefault를 사용하지 않음..\n",
    "\n",
    "# 학점 출력.. 점수를 입력받은 후..\n",
    "# 90점 이상이면 \"당신은 'A'학점입니다\"를 출력\n",
    "# 80점 이상이면서 90점 미만이면 \"당신은 'B'학점입니다\"를 출력\n",
    "# 70점 이상이면서 80점 미만이면 \"당신은 'C'학점입니다\"를 출력\n",
    "# 70점 미만이면 \"당신은 D학점입니다\"를 출력"
   ]
  },
  {
   "cell_type": "code",
   "execution_count": 4,
   "id": "16a3add4",
   "metadata": {},
   "outputs": [
    {
     "name": "stdout",
     "output_type": "stream",
     "text": [
      "임의의 수를 입력하세요..10\n"
     ]
    },
    {
     "data": {
      "text/plain": [
       "30"
      ]
     },
     "execution_count": 4,
     "metadata": {},
     "output_type": "execute_result"
    }
   ],
   "source": [
    "num = int(input('임의의 수를 입력하세요..'))\n",
    "\n",
    "suma = 0\n",
    "for i in range(num+1):\n",
    "    if i%2 == 0:\n",
    "        suma += i\n",
    "        \n",
    "suma"
   ]
  },
  {
   "cell_type": "code",
   "execution_count": 9,
   "id": "f3592058",
   "metadata": {},
   "outputs": [
    {
     "name": "stdout",
     "output_type": "stream",
     "text": [
      "이름을 입력하세요jane\n"
     ]
    }
   ],
   "source": [
    "names = {'mary':1520, 'tom':5214, 'park':5478, 'sams':5478}\n",
    "\n",
    "nam = input('이름을 입력하세요')\n",
    "\n",
    "if nam in names:\n",
    "    print(names[nam])\n",
    "else:\n",
    "    names[nam] = 2000"
   ]
  },
  {
   "cell_type": "code",
   "execution_count": 10,
   "id": "d6f58e0d",
   "metadata": {},
   "outputs": [
    {
     "data": {
      "text/plain": [
       "{'mary': 1520, 'tom': 5214, 'park': 5478, 'sams': 5478, 'jane': 2000}"
      ]
     },
     "execution_count": 10,
     "metadata": {},
     "output_type": "execute_result"
    }
   ],
   "source": [
    "names"
   ]
  },
  {
   "cell_type": "code",
   "execution_count": null,
   "id": "fdfbb427",
   "metadata": {},
   "outputs": [],
   "source": []
  },
  {
   "cell_type": "code",
   "execution_count": 12,
   "id": "73147618",
   "metadata": {},
   "outputs": [
    {
     "name": "stdout",
     "output_type": "stream",
     "text": [
      "점수를 입력하세요85\n",
      "B학점입니다\n"
     ]
    }
   ],
   "source": [
    "score = int(input('점수를 입력하세요'))\n",
    "\n",
    "if score >= 90:\n",
    "    print(\"A학점입니다\")\n",
    "elif 90 > score >= 80:\n",
    "    print(\"B학점입니다\")\n",
    "elif 80 > score >= 70:\n",
    "    print(\"C학점입니다\")\n",
    "else:\n",
    "    print(\"D학점입니다..\")"
   ]
  },
  {
   "cell_type": "code",
   "execution_count": null,
   "id": "e82bca44",
   "metadata": {},
   "outputs": [],
   "source": []
  },
  {
   "cell_type": "code",
   "execution_count": null,
   "id": "9e99bdf7",
   "metadata": {},
   "outputs": [],
   "source": [
    "# For\n",
    "\n",
    "# text = 'python is fun' # text의 character를 모음만 대문자로 전환해서 출력하세요. 참고) 영어모음 = ‘aeiou’\n",
    "\n",
    "# 위의 text의 문자를 index와 함께 출력하시오.\n",
    "\n",
    "# 1~20까지 수에서 짝수만 리스트에 담으세요.\n",
    "# => for문과 while문, list comprehension을 각각 활용\n",
    "\n",
    "# 1~10까지 정수를 출력하는 while문에서 continue와 break를 이용해서 3,4,5,6만 출력하도록 하시오.\n",
    "\n",
    "# x = ['a','b','c','d','e'], y = ['가','나','다','라','마'] 두 리스트의 원소들의 모든 조합을 아래와 같이 출력하시오. =>\n",
    "# [('a','가'), ('a','나'), ('a', '다') ... ('e','라'), ('e', '마')]\n",
    "\n",
    "# computational thinking에서 홀수인덱스만 리스트에 담으세요..\n",
    "\n",
    "# 점수를 5회 입력받은 후 평균을 출력하세요.\n",
    "\n",
    "# text = 'hello world'에서 각 문자를 인덱스와 함께 튜플로 묶어서 출력\n",
    "# (0, 'h'), (1, 'e') ...\n",
    "\n",
    "# 구구단을 출력하시오..."
   ]
  },
  {
   "cell_type": "code",
   "execution_count": 15,
   "id": "e6247abf",
   "metadata": {},
   "outputs": [
    {
     "name": "stdout",
     "output_type": "stream",
     "text": [
      "O I U "
     ]
    }
   ],
   "source": [
    "text = 'python is fun'\n",
    "\n",
    "for c in text:\n",
    "    if c in 'aeiou':\n",
    "        print(c.upper(), end=' ')"
   ]
  },
  {
   "cell_type": "code",
   "execution_count": 16,
   "id": "3f776da6",
   "metadata": {
    "collapsed": true
   },
   "outputs": [
    {
     "name": "stdout",
     "output_type": "stream",
     "text": [
      "0 p\n",
      "1 y\n",
      "2 t\n",
      "3 h\n",
      "4 o\n",
      "5 n\n",
      "6  \n",
      "7 i\n",
      "8 s\n",
      "9  \n",
      "10 f\n",
      "11 u\n",
      "12 n\n"
     ]
    }
   ],
   "source": [
    "text = 'python is fun'\n",
    "\n",
    "for i in range(len(text)):\n",
    "    print(i, text[i])"
   ]
  },
  {
   "cell_type": "code",
   "execution_count": 17,
   "id": "70f2103d",
   "metadata": {
    "collapsed": true
   },
   "outputs": [
    {
     "name": "stdout",
     "output_type": "stream",
     "text": [
      "0 p\n",
      "1 y\n",
      "2 t\n",
      "3 h\n",
      "4 o\n",
      "5 n\n",
      "6  \n",
      "7 i\n",
      "8 s\n",
      "9  \n",
      "10 f\n",
      "11 u\n",
      "12 n\n"
     ]
    }
   ],
   "source": [
    "text = 'python is fun'\n",
    "\n",
    "for i, j in enumerate(text):\n",
    "    print(i, j)"
   ]
  },
  {
   "cell_type": "code",
   "execution_count": 19,
   "id": "76366be4",
   "metadata": {},
   "outputs": [
    {
     "data": {
      "text/plain": [
       "[2, 4, 6, 8, 10, 12, 14, 16, 18, 20]"
      ]
     },
     "execution_count": 19,
     "metadata": {},
     "output_type": "execute_result"
    }
   ],
   "source": [
    "even_list = []\n",
    "for i in range(1, 21):\n",
    "    if i%2 == 0:\n",
    "        even_list.append(i)\n",
    "even_list"
   ]
  },
  {
   "cell_type": "code",
   "execution_count": 24,
   "id": "af209f7f",
   "metadata": {},
   "outputs": [
    {
     "data": {
      "text/plain": [
       "[2, 4, 6, 8, 10, 12, 14, 16, 18, 20]"
      ]
     },
     "execution_count": 24,
     "metadata": {},
     "output_type": "execute_result"
    }
   ],
   "source": [
    "even_list = []\n",
    "count = 1\n",
    "while count < 21:\n",
    "    if count%2 == 0:\n",
    "        even_list.append(count)\n",
    "    count += 1\n",
    "even_list"
   ]
  },
  {
   "cell_type": "code",
   "execution_count": 23,
   "id": "39cfd970",
   "metadata": {},
   "outputs": [
    {
     "data": {
      "text/plain": [
       "[2, 4, 6, 8, 10, 12, 14, 16, 18, 20]"
      ]
     },
     "execution_count": 23,
     "metadata": {},
     "output_type": "execute_result"
    }
   ],
   "source": [
    "[i for i in range(1, 21) if i%2==0]"
   ]
  },
  {
   "cell_type": "code",
   "execution_count": 27,
   "id": "31a4d4bd",
   "metadata": {
    "collapsed": true
   },
   "outputs": [
    {
     "name": "stdout",
     "output_type": "stream",
     "text": [
      "3\n",
      "4\n",
      "5\n",
      "6\n"
     ]
    }
   ],
   "source": [
    "count = 0\n",
    "\n",
    "while count < 10:\n",
    "    count += 1\n",
    "    if count < 3:\n",
    "        continue\n",
    "    if count > 6:\n",
    "        break\n",
    "    print(count)"
   ]
  },
  {
   "cell_type": "code",
   "execution_count": 34,
   "id": "a1fdfb45",
   "metadata": {
    "collapsed": true
   },
   "outputs": [
    {
     "data": {
      "text/plain": [
       "[('a', '가'), ('b', '나'), ('c', '다'), ('d', '라'), ('e', '마')]"
      ]
     },
     "execution_count": 34,
     "metadata": {},
     "output_type": "execute_result"
    }
   ],
   "source": [
    "x = ['a','b','c','d','e']\n",
    "y = ['가','나','다','라','마']\n",
    "L = []\n",
    "\n",
    "for i in range(len(x)):\n",
    "    L.append((x[i], y[i]))\n",
    "L"
   ]
  },
  {
   "cell_type": "code",
   "execution_count": 35,
   "id": "757dc7cc",
   "metadata": {
    "collapsed": true
   },
   "outputs": [
    {
     "data": {
      "text/plain": [
       "[('a', '가'), ('b', '나'), ('c', '다'), ('d', '라'), ('e', '마')]"
      ]
     },
     "execution_count": 35,
     "metadata": {},
     "output_type": "execute_result"
    }
   ],
   "source": [
    "L = []\n",
    "for i in zip(x,y):\n",
    "    L.append(i)\n",
    "L"
   ]
  },
  {
   "cell_type": "code",
   "execution_count": 40,
   "id": "2544f120",
   "metadata": {
    "collapsed": true
   },
   "outputs": [
    {
     "data": {
      "text/plain": [
       "['o', 'p', 't', 't', 'o', 'a', ' ', 'h', 'n', 'i', 'g']"
      ]
     },
     "execution_count": 40,
     "metadata": {},
     "output_type": "execute_result"
    }
   ],
   "source": [
    "text = 'computational thinking'\n",
    "L = []\n",
    "\n",
    "for i in range(1, len(text), 2):\n",
    "    L.append(text[i])\n",
    "L"
   ]
  },
  {
   "cell_type": "code",
   "execution_count": 41,
   "id": "89193699",
   "metadata": {
    "collapsed": true
   },
   "outputs": [
    {
     "name": "stdout",
     "output_type": "stream",
     "text": [
      "점수를 입력하세요5\n",
      "점수를 입력하세요5\n",
      "점수를 입력하세요5\n",
      "점수를 입력하세요5\n",
      "점수를 입력하세요5\n"
     ]
    },
    {
     "data": {
      "text/plain": [
       "5.0"
      ]
     },
     "execution_count": 41,
     "metadata": {},
     "output_type": "execute_result"
    }
   ],
   "source": [
    "count = 0\n",
    "score_sum = 0\n",
    "\n",
    "while count < 5:\n",
    "    score = int(input('점수를 입력하세요'))\n",
    "    score_sum += score\n",
    "    count +=1\n",
    "    \n",
    "score_sum/ 5"
   ]
  },
  {
   "cell_type": "code",
   "execution_count": 42,
   "id": "978e01b6",
   "metadata": {
    "collapsed": true
   },
   "outputs": [
    {
     "name": "stdout",
     "output_type": "stream",
     "text": [
      "0 h\n",
      "1 e\n",
      "2 l\n",
      "3 l\n",
      "4 o\n",
      "5  \n",
      "6 w\n",
      "7 o\n",
      "8 r\n",
      "9 l\n",
      "10 d\n"
     ]
    }
   ],
   "source": [
    "text = 'hello world'\n",
    "\n",
    "for i, j in enumerate(text):\n",
    "    print(i, j)"
   ]
  },
  {
   "cell_type": "code",
   "execution_count": 54,
   "id": "41758fc1",
   "metadata": {},
   "outputs": [
    {
     "name": "stdout",
     "output_type": "stream",
     "text": [
      "1*1=1    2*1=2    3*1=3    4*1=4    5*1=5    6*1=6    7*1=7    8*1=8    9*1=9    \n",
      "1*2=2    2*2=4    3*2=6    4*2=8    5*2=10   6*2=12   7*2=14   8*2=16   9*2=18   \n",
      "1*3=3    2*3=6    3*3=9    4*3=12   5*3=15   6*3=18   7*3=21   8*3=24   9*3=27   \n",
      "1*4=4    2*4=8    3*4=12   4*4=16   5*4=20   6*4=24   7*4=28   8*4=32   9*4=36   \n",
      "1*5=5    2*5=10   3*5=15   4*5=20   5*5=25   6*5=30   7*5=35   8*5=40   9*5=45   \n",
      "1*6=6    2*6=12   3*6=18   4*6=24   5*6=30   6*6=36   7*6=42   8*6=48   9*6=54   \n",
      "1*7=7    2*7=14   3*7=21   4*7=28   5*7=35   6*7=42   7*7=49   8*7=56   9*7=63   \n",
      "1*8=8    2*8=16   3*8=24   4*8=32   5*8=40   6*8=48   7*8=56   8*8=64   9*8=72   \n",
      "1*9=9    2*9=18   3*9=27   4*9=36   5*9=45   6*9=54   7*9=63   8*9=72   9*9=81   \n"
     ]
    }
   ],
   "source": [
    "for i in range(1, 10):\n",
    "    for j in range(1, 10):\n",
    "        print(\"{0}*{1}={2:<2}\".format(j, i, i*j), end='   ')\n",
    "    print()"
   ]
  },
  {
   "cell_type": "code",
   "execution_count": null,
   "id": "2c151749",
   "metadata": {},
   "outputs": [],
   "source": []
  }
 ],
 "metadata": {
  "kernelspec": {
   "display_name": "Python 3 (ipykernel)",
   "language": "python",
   "name": "python3"
  },
  "language_info": {
   "codemirror_mode": {
    "name": "ipython",
    "version": 3
   },
   "file_extension": ".py",
   "mimetype": "text/x-python",
   "name": "python",
   "nbconvert_exporter": "python",
   "pygments_lexer": "ipython3",
   "version": "3.9.7"
  }
 },
 "nbformat": 4,
 "nbformat_minor": 5
}
