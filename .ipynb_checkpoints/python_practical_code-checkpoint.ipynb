{
 "cells": [
  {
   "cell_type": "code",
   "execution_count": null,
   "id": "922cf1ad",
   "metadata": {},
   "outputs": [],
   "source": []
  },
  {
   "cell_type": "code",
   "execution_count": 1,
   "id": "867b7af1",
   "metadata": {},
   "outputs": [],
   "source": [
    "# quiz 1"
   ]
  },
  {
   "cell_type": "code",
   "execution_count": null,
   "id": "52c1305d",
   "metadata": {},
   "outputs": [],
   "source": [
    "# 7자리 이상의 임의의 정수를 입력받은 후, 1000단위 구별자를 추가하여 리턴하는 코드를 \n",
    "# 작성하시오.. 123456789 => 123,456,789"
   ]
  },
  {
   "cell_type": "code",
   "execution_count": 19,
   "id": "76729216",
   "metadata": {},
   "outputs": [
    {
     "name": "stdout",
     "output_type": "stream",
     "text": [
      "임의의 7자리 이상인 정수를 입력하세요123456789\n",
      "123,456,789\n"
     ]
    }
   ],
   "source": [
    "num = input('임의의 7자리 이상인 정수를 입력하세요')\n",
    "\n",
    "num = num[::-1]\n",
    "ret = ''\n",
    "\n",
    "for i, c in enumerate(num):\n",
    "    \n",
    "    i = i+1\n",
    "    \n",
    "    if (i%3 == 0) & (i != len(num)):\n",
    "        ret += c + ','\n",
    "    else:\n",
    "        ret += c\n",
    "        \n",
    "ret = ret[::-1]\n",
    "    \n",
    "print(ret)"
   ]
  },
  {
   "cell_type": "code",
   "execution_count": null,
   "id": "f25544f3",
   "metadata": {},
   "outputs": [],
   "source": []
  },
  {
   "cell_type": "code",
   "execution_count": 50,
   "id": "9c9b784a",
   "metadata": {
    "collapsed": true
   },
   "outputs": [
    {
     "name": "stdout",
     "output_type": "stream",
     "text": [
      "' ' 등장횟수 : 273\n",
      "'이' 등장횟수 : 42\n",
      "'구' 등장횟수 : 31\n",
      "'다' 등장횟수 : 28\n",
      "'.' 등장횟수 : 26\n",
      "'에' 등장횟수 : 25\n",
      "'가' 등장횟수 : 25\n",
      "'\n",
      "' 등장횟수 : 21\n",
      "'해' 등장횟수 : 18\n",
      "'는' 등장횟수 : 18\n",
      "'서' 등장횟수 : 17\n",
      "'지' 등장횟수 : 17\n",
      "'만' 등장횟수 : 17\n",
      "'4' 등장횟수 : 17\n",
      "'1' 등장횟수 : 17\n",
      "'2' 등장횟수 : 17\n",
      "'0' 등장횟수 : 15\n",
      "'공' 등장횟수 : 14\n",
      "'급' 등장횟수 : 14\n",
      "'동' 등장횟수 : 14\n"
     ]
    }
   ],
   "source": [
    "# text file을 열어서 어떤 문자가 몇 번 등장했는지를 출력..\n",
    "# 등장 빈도순으로 출력..\n",
    "\n",
    "# '가' -> 256회\n",
    "# '1' -> 230회\n",
    "# '마' -> 150회\n",
    "# ....\n",
    "\n",
    "with open('mydata.txt', 'r') as f:\n",
    "    text = f.read()\n",
    "#     print(text)\n",
    "\n",
    "char = {}\n",
    "\n",
    "for c in text:\n",
    "    \n",
    "    if c in char:\n",
    "        char[c] += 1\n",
    "    else:\n",
    "        char[c] = 1\n",
    "        \n",
    "char = sorted(char.items(), key=lambda x: x[1], reverse=True)\n",
    "\n",
    "for i, j in char[:20]:\n",
    "    print(\"'{}' 등장횟수 : {}\".format(i, j))"
   ]
  },
  {
   "cell_type": "code",
   "execution_count": null,
   "id": "4d1392d0",
   "metadata": {},
   "outputs": [],
   "source": []
  },
  {
   "cell_type": "code",
   "execution_count": null,
   "id": "12e1c6c7",
   "metadata": {},
   "outputs": [],
   "source": []
  }
 ],
 "metadata": {
  "kernelspec": {
   "display_name": "Python 3 (ipykernel)",
   "language": "python",
   "name": "python3"
  },
  "language_info": {
   "codemirror_mode": {
    "name": "ipython",
    "version": 3
   },
   "file_extension": ".py",
   "mimetype": "text/x-python",
   "name": "python",
   "nbconvert_exporter": "python",
   "pygments_lexer": "ipython3",
   "version": "3.9.7"
  }
 },
 "nbformat": 4,
 "nbformat_minor": 5
}
