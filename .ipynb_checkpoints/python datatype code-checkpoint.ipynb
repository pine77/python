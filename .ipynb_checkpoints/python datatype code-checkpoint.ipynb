{
 "cells": [
  {
   "cell_type": "code",
   "execution_count": 21,
   "id": "41d11118",
   "metadata": {
    "scrolled": true
   },
   "outputs": [],
   "source": [
    "# String\n",
    "\n",
    "txt1 = 'A tale that / was not right'\n",
    "\n",
    "# 'ale' 이 출력..\n",
    "# 'A tale' 출력\n",
    "# 'not' 출력\n",
    "# txt1을 소문자 전환\n",
    "# txt1을 대문자 전환\n",
    "# 'o'가 몇 개 존재하는가?\n",
    "# 'o'가 몇 번 인덱스에 존재하는가?\n",
    "# txt1의 길이는 어떻게 되는가?\n",
    "# space를 기준으로 나누어서 List에 담으세요..\n",
    "# 'tale'을 'story'로 바꾸세요..\n",
    "# txt1 안에 'right'가 존재하는지 확인"
   ]
  },
  {
   "cell_type": "code",
   "execution_count": 9,
   "id": "a28b5c31",
   "metadata": {},
   "outputs": [
    {
     "data": {
      "text/plain": [
       "'ale'"
      ]
     },
     "execution_count": 9,
     "metadata": {},
     "output_type": "execute_result"
    }
   ],
   "source": [
    "txt1[3:6]  # slicing\n",
    "txt1[:6]\n",
    "txt1[5]  # indexing\n",
    "txt1[-9:-6]\n",
    "txt1.lower()\n",
    "txt1.upper()\n",
    "txt1.count('o')\n",
    "txt1.find('o')\n",
    "txt1.index('o')\n",
    "len(txt1)\n",
    "txt1.split()\n",
    "txt1.split('/')\n",
    "txt1.replace('tale', 'story')\n",
    "'right' in txt1"
   ]
  },
  {
   "cell_type": "code",
   "execution_count": 10,
   "id": "a11fe0d1",
   "metadata": {
    "scrolled": true
   },
   "outputs": [
    {
     "data": {
      "text/plain": [
       "'A tale'"
      ]
     },
     "execution_count": 10,
     "metadata": {},
     "output_type": "execute_result"
    }
   ],
   "source": [
    "txt1[:6]"
   ]
  },
  {
   "cell_type": "code",
   "execution_count": 11,
   "id": "7c912aa1",
   "metadata": {},
   "outputs": [
    {
     "data": {
      "text/plain": [
       "'e'"
      ]
     },
     "execution_count": 11,
     "metadata": {},
     "output_type": "execute_result"
    }
   ],
   "source": [
    "txt1[5]  # indexing"
   ]
  },
  {
   "cell_type": "code",
   "execution_count": 13,
   "id": "ab88ceae",
   "metadata": {},
   "outputs": [
    {
     "data": {
      "text/plain": [
       "'not'"
      ]
     },
     "execution_count": 13,
     "metadata": {},
     "output_type": "execute_result"
    }
   ],
   "source": [
    "txt1[-9:-6]"
   ]
  },
  {
   "cell_type": "code",
   "execution_count": 14,
   "id": "75893f38",
   "metadata": {},
   "outputs": [
    {
     "data": {
      "text/plain": [
       "'a tale that was not right'"
      ]
     },
     "execution_count": 14,
     "metadata": {},
     "output_type": "execute_result"
    }
   ],
   "source": [
    "txt1.lower()"
   ]
  },
  {
   "cell_type": "code",
   "execution_count": 15,
   "id": "ffe95553",
   "metadata": {},
   "outputs": [
    {
     "data": {
      "text/plain": [
       "'A TALE THAT WAS NOT RIGHT'"
      ]
     },
     "execution_count": 15,
     "metadata": {},
     "output_type": "execute_result"
    }
   ],
   "source": [
    "txt1.upper()"
   ]
  },
  {
   "cell_type": "code",
   "execution_count": 16,
   "id": "a9713d60",
   "metadata": {},
   "outputs": [
    {
     "data": {
      "text/plain": [
       "1"
      ]
     },
     "execution_count": 16,
     "metadata": {},
     "output_type": "execute_result"
    }
   ],
   "source": [
    "txt1.count('o')"
   ]
  },
  {
   "cell_type": "code",
   "execution_count": 17,
   "id": "10817332",
   "metadata": {},
   "outputs": [
    {
     "data": {
      "text/plain": [
       "17"
      ]
     },
     "execution_count": 17,
     "metadata": {},
     "output_type": "execute_result"
    }
   ],
   "source": [
    "txt1.find('o')"
   ]
  },
  {
   "cell_type": "code",
   "execution_count": 18,
   "id": "1aaf8e85",
   "metadata": {},
   "outputs": [
    {
     "data": {
      "text/plain": [
       "17"
      ]
     },
     "execution_count": 18,
     "metadata": {},
     "output_type": "execute_result"
    }
   ],
   "source": [
    "txt1.index('o')"
   ]
  },
  {
   "cell_type": "code",
   "execution_count": 19,
   "id": "97e5015c",
   "metadata": {},
   "outputs": [
    {
     "data": {
      "text/plain": [
       "25"
      ]
     },
     "execution_count": 19,
     "metadata": {},
     "output_type": "execute_result"
    }
   ],
   "source": [
    "len(txt1)"
   ]
  },
  {
   "cell_type": "code",
   "execution_count": 20,
   "id": "9b330a26",
   "metadata": {},
   "outputs": [
    {
     "data": {
      "text/plain": [
       "['A', 'tale', 'that', 'was', 'not', 'right']"
      ]
     },
     "execution_count": 20,
     "metadata": {},
     "output_type": "execute_result"
    }
   ],
   "source": [
    "txt1.split()"
   ]
  },
  {
   "cell_type": "code",
   "execution_count": 22,
   "id": "bb3fb24d",
   "metadata": {},
   "outputs": [
    {
     "data": {
      "text/plain": [
       "['A tale that ', ' was not right']"
      ]
     },
     "execution_count": 22,
     "metadata": {},
     "output_type": "execute_result"
    }
   ],
   "source": [
    "txt1.split('/')"
   ]
  },
  {
   "cell_type": "code",
   "execution_count": 24,
   "id": "1c7e8dd6",
   "metadata": {},
   "outputs": [
    {
     "data": {
      "text/plain": [
       "'A story that / was not right'"
      ]
     },
     "execution_count": 24,
     "metadata": {},
     "output_type": "execute_result"
    }
   ],
   "source": [
    "txt1.replace('tale', 'story')"
   ]
  },
  {
   "cell_type": "code",
   "execution_count": 25,
   "id": "a379ccf1",
   "metadata": {},
   "outputs": [
    {
     "data": {
      "text/plain": [
       "True"
      ]
     },
     "execution_count": 25,
     "metadata": {},
     "output_type": "execute_result"
    }
   ],
   "source": [
    "'right' in txt1"
   ]
  },
  {
   "cell_type": "code",
   "execution_count": null,
   "id": "7fd09c71",
   "metadata": {},
   "outputs": [],
   "source": [
    "# 군집형 데이터타입 - index(주소) - []\n",
    "\n",
    "# string - 문자열, 원소의 수정,삭제,추가가 안 됨..\n",
    "# list - 리스트, 원소의 수정,삭제,추가가 자유로움... 모든 객체를 담을 수 있음\n",
    "# set - 집합, 중복데이터를 허용하지 않는다.., 순서가 없음(index가 없음)\n",
    "# tuple - 원소의 수정,삭제,추가가 안 됨.., 고정된 값을 표현. 데이터를 묶는 보조적 용도..\n",
    "# dictionary - 사전, 단어:뜻 => key:value => key가 인덱스 역할.."
   ]
  },
  {
   "cell_type": "code",
   "execution_count": null,
   "id": "4437997a",
   "metadata": {},
   "outputs": [],
   "source": []
  },
  {
   "cell_type": "code",
   "execution_count": 28,
   "id": "f8a6a7fe",
   "metadata": {},
   "outputs": [],
   "source": [
    "# List\n",
    "\n",
    "sol = ['태양','수성','금성','지구','화성','목성','지구']\n",
    "sol1 = ['토성','천황성','해왕성']\n",
    "planet = '지구'"
   ]
  },
  {
   "cell_type": "code",
   "execution_count": 29,
   "id": "1bc5102c",
   "metadata": {},
   "outputs": [
    {
     "data": {
      "text/plain": [
       "['수성', '금성']"
      ]
     },
     "execution_count": 29,
     "metadata": {},
     "output_type": "execute_result"
    }
   ],
   "source": [
    "# 1. sol에서 ['수성','금성']을 출력\n",
    "sol[1:3]"
   ]
  },
  {
   "cell_type": "code",
   "execution_count": 32,
   "id": "f6204659",
   "metadata": {},
   "outputs": [
    {
     "data": {
      "text/plain": [
       "3"
      ]
     },
     "execution_count": 32,
     "metadata": {},
     "output_type": "execute_result"
    }
   ],
   "source": [
    "# 2. sol에서 '지구' 위치 인덱스 출력\n",
    "sol.index('지구')"
   ]
  },
  {
   "cell_type": "code",
   "execution_count": 33,
   "id": "21e34d93",
   "metadata": {},
   "outputs": [
    {
     "data": {
      "text/plain": [
       "['태양', '수성', '금성', '지구', '해왕성', '목성', '지구']"
      ]
     },
     "execution_count": 33,
     "metadata": {},
     "output_type": "execute_result"
    }
   ],
   "source": [
    "# 3. sol에서 '화성'을 '해왕성'으로 수정\n",
    "sol[4] = '해왕성'\n",
    "sol"
   ]
  },
  {
   "cell_type": "code",
   "execution_count": 35,
   "id": "2cc1219a",
   "metadata": {},
   "outputs": [
    {
     "data": {
      "text/plain": [
       "['태양', '명왕성', '수성', '금성', '지구', '해왕성', '목성', '지구', '토성']"
      ]
     },
     "execution_count": 35,
     "metadata": {},
     "output_type": "execute_result"
    }
   ],
   "source": [
    "# 4. '수성'자리에 '명왕성' 삽입\n",
    "sol.insert(1, '명왕성')\n",
    "sol"
   ]
  },
  {
   "cell_type": "code",
   "execution_count": 34,
   "id": "5a41c5a8",
   "metadata": {},
   "outputs": [
    {
     "data": {
      "text/plain": [
       "['태양', '수성', '금성', '지구', '해왕성', '목성', '지구', '토성']"
      ]
     },
     "execution_count": 34,
     "metadata": {},
     "output_type": "execute_result"
    }
   ],
   "source": [
    "# 5. '토성'을 맨 끝에 삽입\n",
    "sol.append('토성')\n",
    "sol"
   ]
  },
  {
   "cell_type": "code",
   "execution_count": 36,
   "id": "fbc80843",
   "metadata": {},
   "outputs": [
    {
     "data": {
      "text/plain": [
       "['태양', '명왕성', '수성', '금성', '지구', '해왕성', '목성', '지구']"
      ]
     },
     "execution_count": 36,
     "metadata": {},
     "output_type": "execute_result"
    }
   ],
   "source": [
    "# 6. 맨 끝 요소를 삭제하고 리턴\n",
    "sol.pop()\n",
    "sol"
   ]
  },
  {
   "cell_type": "code",
   "execution_count": 37,
   "id": "6fe136c9",
   "metadata": {},
   "outputs": [],
   "source": [
    "# 7. '금성'을 제거\n",
    "sol.remove('금성')"
   ]
  },
  {
   "cell_type": "code",
   "execution_count": 41,
   "id": "0ee99494",
   "metadata": {},
   "outputs": [
    {
     "data": {
      "text/plain": [
       "['태양', '목성', '지구']"
      ]
     },
     "execution_count": 41,
     "metadata": {},
     "output_type": "execute_result"
    }
   ],
   "source": [
    "# 8. 1번 인덱스에서 3번 인덱스까지 삭제\n",
    "del sol[1:4]\n",
    "sol"
   ]
  },
  {
   "cell_type": "code",
   "execution_count": 39,
   "id": "a559f7a9",
   "metadata": {},
   "outputs": [
    {
     "data": {
      "text/plain": [
       "['태양', '명왕성', '지구', '해왕성', '목성', '지구']"
      ]
     },
     "execution_count": 39,
     "metadata": {},
     "output_type": "execute_result"
    }
   ],
   "source": [
    "# 9. 인덱스 2번 요소 삭제\n",
    "sol.pop(2)\n",
    "sol"
   ]
  },
  {
   "cell_type": "code",
   "execution_count": 43,
   "id": "68c4bb4a",
   "metadata": {},
   "outputs": [
    {
     "data": {
      "text/plain": [
       "['태양', '목성', '지구', '토성', '천황성', '해왕성']"
      ]
     },
     "execution_count": 43,
     "metadata": {},
     "output_type": "execute_result"
    }
   ],
   "source": [
    "# 10. sol과 sol1을 합치세요\n",
    "sol + sol1"
   ]
  },
  {
   "cell_type": "code",
   "execution_count": 46,
   "id": "79c64554",
   "metadata": {},
   "outputs": [
    {
     "data": {
      "text/plain": [
       "['태양', '지구', '목성']"
      ]
     },
     "execution_count": 46,
     "metadata": {},
     "output_type": "execute_result"
    }
   ],
   "source": [
    "# 11. 내림차순 정렬\n",
    "sorted(sol, reverse=True)"
   ]
  },
  {
   "cell_type": "code",
   "execution_count": 47,
   "id": "827edcdc",
   "metadata": {},
   "outputs": [
    {
     "data": {
      "text/plain": [
       "['목성', '지구', '태양']"
      ]
     },
     "execution_count": 47,
     "metadata": {},
     "output_type": "execute_result"
    }
   ],
   "source": [
    "# 12. 오름차순 정렬\n",
    "sorted(sol)"
   ]
  },
  {
   "cell_type": "code",
   "execution_count": 48,
   "id": "623e873a",
   "metadata": {},
   "outputs": [
    {
     "data": {
      "text/plain": [
       "False"
      ]
     },
     "execution_count": 48,
     "metadata": {},
     "output_type": "execute_result"
    }
   ],
   "source": [
    "# 13. '만리장성'이 있는지 확인\n",
    "'만리장성' in sol"
   ]
  },
  {
   "cell_type": "code",
   "execution_count": 49,
   "id": "af4b4fce",
   "metadata": {},
   "outputs": [
    {
     "data": {
      "text/plain": [
       "True"
      ]
     },
     "execution_count": 49,
     "metadata": {},
     "output_type": "execute_result"
    }
   ],
   "source": [
    "'목성' in sol"
   ]
  },
  {
   "cell_type": "code",
   "execution_count": 50,
   "id": "9e2dae12",
   "metadata": {},
   "outputs": [
    {
     "data": {
      "text/plain": [
       "['태양', '목성', '지구', '태양', '목성', '지구', '태양', '목성', '지구']"
      ]
     },
     "execution_count": 50,
     "metadata": {},
     "output_type": "execute_result"
    }
   ],
   "source": [
    "# 14. so1을 3번 반복하세요\n",
    "sol * 3"
   ]
  },
  {
   "cell_type": "code",
   "execution_count": 51,
   "id": "9174f682",
   "metadata": {},
   "outputs": [
    {
     "data": {
      "text/plain": [
       "3"
      ]
     },
     "execution_count": 51,
     "metadata": {},
     "output_type": "execute_result"
    }
   ],
   "source": [
    "# 15. 길이를 출력하세요\n",
    "len(sol)"
   ]
  },
  {
   "cell_type": "code",
   "execution_count": 53,
   "id": "aebb80e3",
   "metadata": {},
   "outputs": [
    {
     "data": {
      "text/plain": [
       "1"
      ]
     },
     "execution_count": 53,
     "metadata": {},
     "output_type": "execute_result"
    }
   ],
   "source": [
    "# 16. '지구'가 몇 개 포함되어있는지 확인.\n",
    "sol.count('지구')"
   ]
  },
  {
   "cell_type": "code",
   "execution_count": 55,
   "id": "107e186f",
   "metadata": {},
   "outputs": [
    {
     "data": {
      "text/plain": [
       "[]"
      ]
     },
     "execution_count": 55,
     "metadata": {},
     "output_type": "execute_result"
    }
   ],
   "source": [
    "# 17. 모든 원소를 지우세요.\n",
    "sol.clear()\n",
    "sol"
   ]
  },
  {
   "cell_type": "code",
   "execution_count": 56,
   "id": "667a6e9e",
   "metadata": {
    "collapsed": true
   },
   "outputs": [
    {
     "ename": "NameError",
     "evalue": "name 'sol' is not defined",
     "output_type": "error",
     "traceback": [
      "\u001b[1;31m---------------------------------------------------------------------------\u001b[0m",
      "\u001b[1;31mNameError\u001b[0m                                 Traceback (most recent call last)",
      "\u001b[1;32m~\\AppData\\Local\\Temp/ipykernel_11944/708815970.py\u001b[0m in \u001b[0;36m<module>\u001b[1;34m\u001b[0m\n\u001b[0;32m      1\u001b[0m \u001b[1;31m# 18. sol리스트를 삭제하세요..\u001b[0m\u001b[1;33m\u001b[0m\u001b[1;33m\u001b[0m\u001b[0m\n\u001b[0;32m      2\u001b[0m \u001b[1;32mdel\u001b[0m \u001b[0msol\u001b[0m\u001b[1;33m\u001b[0m\u001b[1;33m\u001b[0m\u001b[0m\n\u001b[1;32m----> 3\u001b[1;33m \u001b[0msol\u001b[0m\u001b[1;33m\u001b[0m\u001b[1;33m\u001b[0m\u001b[0m\n\u001b[0m",
      "\u001b[1;31mNameError\u001b[0m: name 'sol' is not defined"
     ]
    }
   ],
   "source": [
    "# 18. sol리스트를 삭제하세요..\n",
    "del sol\n",
    "sol"
   ]
  },
  {
   "cell_type": "code",
   "execution_count": null,
   "id": "49b28f97",
   "metadata": {},
   "outputs": [],
   "source": []
  },
  {
   "cell_type": "code",
   "execution_count": 74,
   "id": "51db522a",
   "metadata": {},
   "outputs": [
    {
     "name": "stdout",
     "output_type": "stream",
     "text": [
      "tuple\n",
      "3\n",
      "[4, 5]\n",
      "6\n",
      "True\n",
      "3\n",
      "1\n",
      "[4, 5, 6, 7, 8]\n",
      "8\n",
      "4\n",
      "30\n",
      "6.0\n",
      "[8, 7, 6, 5, 4]\n"
     ]
    }
   ],
   "source": [
    "# Tuple - 원소 수정 안 됨..\n",
    "\n",
    "myTuple = ('tuple', (1,2,3) , [4,5,6,7,8] ,'7', '8', '9')\n",
    "\n",
    "# 'tuple'을 출력하세요\n",
    "print(myTuple[0])\n",
    "\n",
    "# 3을 출력하세요\n",
    "print(myTuple[1][2])\n",
    "\n",
    "# 4,5를 출력하세요\n",
    "print(myTuple[2][:2])\n",
    "\n",
    "# tuple의 길이를 리턴하세요 ( 요소의 갯수가 몇 개인지 )\n",
    "print(len(myTuple))\n",
    "\n",
    "# '7'이 있는지 확인하세요\n",
    "print('7' in myTuple)\n",
    "\n",
    "# '7'의 인덱스를 출력하세요.\n",
    "print(myTuple.index('7'))\n",
    "\n",
    "# '7'이 몇 개 있는지 확인하세요\n",
    "print(myTuple.count('7'))\n",
    "\n",
    "# 인데스 2번를 출력하세요\n",
    "print(myTuple[2])\n",
    "\n",
    "# 인데스 2번에서 최대값을 출력하세요\n",
    "print(max(myTuple[2]))\n",
    "\n",
    "# 인데스 2번에서 최소값을 출력하세요\n",
    "print(min(myTuple[2]))\n",
    "\n",
    "# 인데스 2번에서 총합을 출력하세요\n",
    "print(sum(myTuple[2]))\n",
    "\n",
    "# 인데스 2번에서 평균을 출력하세요\n",
    "import numpy as np\n",
    "print(np.mean(myTuple[2]))\n",
    "\n",
    "# 인데스 2번를 내림차순 정렬해서 출력하세요.\n",
    "print(sorted(myTuple[2], reverse=True))"
   ]
  },
  {
   "cell_type": "code",
   "execution_count": null,
   "id": "278a5018",
   "metadata": {},
   "outputs": [],
   "source": []
  },
  {
   "cell_type": "code",
   "execution_count": 75,
   "id": "db0e6dba",
   "metadata": {},
   "outputs": [],
   "source": [
    "# Set - 중복데이터가 없다. 순서가 없으므로 인덱스가 없다.., 집합연산..\n",
    "\n",
    "# 원소가 없는 set인 s를 만드세요\n",
    "# s에 원소 'sky'와 'earth'를 추가하세요\n",
    "# s에 1,2 두 원소를 추가하세요\n",
    "# s에서 'sky'를 삭제하세요\n",
    "\n",
    "A = {1,2,3,4,5,6}\n",
    "B = {1,2,3,7,8,9}\n",
    "C = {1,2,3}\n",
    "# 두 집합의 합집합을 출력\n",
    "# 두 집합의 교집합을 출력\n",
    "# A의 B에 대한 차집합\n",
    "# 대칭차집합\n",
    "# C가 A의 부분집합인지 확인\n",
    "# A가 C를 포함하는지 확인\n",
    "\n",
    "# 집합 B의 길이를 출력\n",
    "# 집합 B의 최대값 출력\n",
    "# 집합 B의 최소값 출력\n",
    "# 집합 B의 합을 출력\n",
    "# 집합 B의 평균출력\n",
    "# 집합 B의 내림차순 출력\n",
    "# 집합 B에 5가 포함되어 있는지 확인"
   ]
  },
  {
   "cell_type": "code",
   "execution_count": 77,
   "id": "a43ad578",
   "metadata": {},
   "outputs": [],
   "source": [
    "s = set()  # {}"
   ]
  },
  {
   "cell_type": "code",
   "execution_count": 78,
   "id": "eb4128d9",
   "metadata": {},
   "outputs": [
    {
     "data": {
      "text/plain": [
       "{'earth', 'sky'}"
      ]
     },
     "execution_count": 78,
     "metadata": {},
     "output_type": "execute_result"
    }
   ],
   "source": [
    "s.add('earth')\n",
    "s.add('sky')\n",
    "s"
   ]
  },
  {
   "cell_type": "code",
   "execution_count": 81,
   "id": "4c858cbe",
   "metadata": {},
   "outputs": [
    {
     "data": {
      "text/plain": [
       "{1, 2, 'earth', 'sky'}"
      ]
     },
     "execution_count": 81,
     "metadata": {},
     "output_type": "execute_result"
    }
   ],
   "source": [
    "s.update({1,2})\n",
    "s"
   ]
  },
  {
   "cell_type": "code",
   "execution_count": 82,
   "id": "45c602fb",
   "metadata": {},
   "outputs": [
    {
     "data": {
      "text/plain": [
       "{1, 2, 'earth'}"
      ]
     },
     "execution_count": 82,
     "metadata": {},
     "output_type": "execute_result"
    }
   ],
   "source": [
    "s.remove('sky')\n",
    "s"
   ]
  },
  {
   "cell_type": "code",
   "execution_count": 83,
   "id": "6ced2134",
   "metadata": {},
   "outputs": [
    {
     "data": {
      "text/plain": [
       "{1, 2, 3, 4, 5, 6, 7, 8, 9}"
      ]
     },
     "execution_count": 83,
     "metadata": {},
     "output_type": "execute_result"
    }
   ],
   "source": [
    "A.union(B)"
   ]
  },
  {
   "cell_type": "code",
   "execution_count": 84,
   "id": "363e7cdf",
   "metadata": {},
   "outputs": [
    {
     "data": {
      "text/plain": [
       "{1, 2, 3}"
      ]
     },
     "execution_count": 84,
     "metadata": {},
     "output_type": "execute_result"
    }
   ],
   "source": [
    "A.intersection(B)"
   ]
  },
  {
   "cell_type": "code",
   "execution_count": 85,
   "id": "965a003e",
   "metadata": {},
   "outputs": [
    {
     "data": {
      "text/plain": [
       "{4, 5, 6}"
      ]
     },
     "execution_count": 85,
     "metadata": {},
     "output_type": "execute_result"
    }
   ],
   "source": [
    "A.difference(B)"
   ]
  },
  {
   "cell_type": "code",
   "execution_count": 86,
   "id": "86e8521e",
   "metadata": {},
   "outputs": [
    {
     "data": {
      "text/plain": [
       "{4, 5, 6, 7, 8, 9}"
      ]
     },
     "execution_count": 86,
     "metadata": {},
     "output_type": "execute_result"
    }
   ],
   "source": [
    "A.symmetric_difference(B)"
   ]
  },
  {
   "cell_type": "code",
   "execution_count": 87,
   "id": "05bd1891",
   "metadata": {},
   "outputs": [
    {
     "data": {
      "text/plain": [
       "True"
      ]
     },
     "execution_count": 87,
     "metadata": {},
     "output_type": "execute_result"
    }
   ],
   "source": [
    "C.issubset(A)"
   ]
  },
  {
   "cell_type": "code",
   "execution_count": 89,
   "id": "4324188a",
   "metadata": {},
   "outputs": [
    {
     "data": {
      "text/plain": [
       "True"
      ]
     },
     "execution_count": 89,
     "metadata": {},
     "output_type": "execute_result"
    }
   ],
   "source": [
    "A.issuperset(C)"
   ]
  },
  {
   "cell_type": "code",
   "execution_count": 90,
   "id": "d84dd623",
   "metadata": {},
   "outputs": [
    {
     "data": {
      "text/plain": [
       "6"
      ]
     },
     "execution_count": 90,
     "metadata": {},
     "output_type": "execute_result"
    }
   ],
   "source": [
    "len(A)"
   ]
  },
  {
   "cell_type": "code",
   "execution_count": 91,
   "id": "fd69721d",
   "metadata": {},
   "outputs": [
    {
     "data": {
      "text/plain": [
       "6"
      ]
     },
     "execution_count": 91,
     "metadata": {},
     "output_type": "execute_result"
    }
   ],
   "source": [
    "max(A)"
   ]
  },
  {
   "cell_type": "code",
   "execution_count": 92,
   "id": "13842d43",
   "metadata": {},
   "outputs": [
    {
     "data": {
      "text/plain": [
       "1"
      ]
     },
     "execution_count": 92,
     "metadata": {},
     "output_type": "execute_result"
    }
   ],
   "source": [
    "min(A)"
   ]
  },
  {
   "cell_type": "code",
   "execution_count": 93,
   "id": "c9c56d2e",
   "metadata": {},
   "outputs": [
    {
     "data": {
      "text/plain": [
       "21"
      ]
     },
     "execution_count": 93,
     "metadata": {},
     "output_type": "execute_result"
    }
   ],
   "source": [
    "sum(A)"
   ]
  },
  {
   "cell_type": "code",
   "execution_count": 96,
   "id": "9c975dfb",
   "metadata": {},
   "outputs": [
    {
     "data": {
      "text/plain": [
       "{1, 2, 3, 4, 5, 6}"
      ]
     },
     "execution_count": 96,
     "metadata": {},
     "output_type": "execute_result"
    }
   ],
   "source": [
    "A"
   ]
  },
  {
   "cell_type": "code",
   "execution_count": 97,
   "id": "2220384a",
   "metadata": {},
   "outputs": [
    {
     "data": {
      "text/plain": [
       "3.5"
      ]
     },
     "execution_count": 97,
     "metadata": {},
     "output_type": "execute_result"
    }
   ],
   "source": [
    "sum(A)/len(A)"
   ]
  },
  {
   "cell_type": "code",
   "execution_count": 99,
   "id": "5f9b304d",
   "metadata": {},
   "outputs": [
    {
     "data": {
      "text/plain": [
       "3.5"
      ]
     },
     "execution_count": 99,
     "metadata": {},
     "output_type": "execute_result"
    }
   ],
   "source": [
    "np.mean(list(A))"
   ]
  },
  {
   "cell_type": "code",
   "execution_count": 101,
   "id": "dc92e6b7",
   "metadata": {},
   "outputs": [
    {
     "data": {
      "text/plain": [
       "[6, 5, 4, 3, 2, 1]"
      ]
     },
     "execution_count": 101,
     "metadata": {},
     "output_type": "execute_result"
    }
   ],
   "source": [
    "sorted(A, reverse=True)"
   ]
  },
  {
   "cell_type": "code",
   "execution_count": 103,
   "id": "520d9eef",
   "metadata": {},
   "outputs": [
    {
     "data": {
      "text/plain": [
       "True"
      ]
     },
     "execution_count": 103,
     "metadata": {},
     "output_type": "execute_result"
    }
   ],
   "source": [
    "5 in A"
   ]
  },
  {
   "cell_type": "code",
   "execution_count": null,
   "id": "ccdbc0d8",
   "metadata": {},
   "outputs": [],
   "source": []
  },
  {
   "cell_type": "code",
   "execution_count": null,
   "id": "662503f7",
   "metadata": {},
   "outputs": [],
   "source": [
    "# Dictionary\n",
    "\n",
    "# 'mydict'라는 딕셔너리를 만드세요.\n",
    "# 'red':4, 'blue':3, 'green':1 세 요소를 추가하세요.\n",
    "# key에 'blue'가 있는지 확인하세요.\n",
    "# mydict의 길이를 출력하세요.\n",
    "# 'red'의 값을 출력하세요.\n",
    "# 'red'의 값을 10으로 수정하세요.\n",
    "# key값만 출력하세요\n",
    "# value값만 출력하세요\n",
    "# key와 value를 튜플로 출력하세요.\n",
    "# (key기준으로 정렬하세요.)\n",
    "# (value기준으로 정렬하세요)\n",
    "# key 'blue'요소를 삭제하세요\n",
    "# key 'pink'요소 값을 출력하되 오류가 없도록 하세요\n",
    "# key 'pink' 값을 출력하되 없으면, value 20으로 새로이 추가하세요\n",
    "# value에 20이 있는지 확인하세요.\n",
    "# key는 'yellow'에 value는 30을 추가하세요.\n",
    "# yourdict = {'파랑':50, '빨강':70}을 합하세요.."
   ]
  },
  {
   "cell_type": "code",
   "execution_count": 105,
   "id": "0259d792",
   "metadata": {},
   "outputs": [],
   "source": [
    "d = {}"
   ]
  },
  {
   "cell_type": "code",
   "execution_count": 106,
   "id": "3086a764",
   "metadata": {},
   "outputs": [
    {
     "data": {
      "text/plain": [
       "{'red': 4}"
      ]
     },
     "execution_count": 106,
     "metadata": {},
     "output_type": "execute_result"
    }
   ],
   "source": [
    "d['red'] = 4\n",
    "d"
   ]
  },
  {
   "cell_type": "code",
   "execution_count": 107,
   "id": "a641dd9d",
   "metadata": {},
   "outputs": [
    {
     "data": {
      "text/plain": [
       "{'red': 4, 'blue': 3, 'green': 1}"
      ]
     },
     "execution_count": 107,
     "metadata": {},
     "output_type": "execute_result"
    }
   ],
   "source": [
    "d['blue'] = 3   # 없는 key에 값을 대입하면, 원소가 추가가 됨\n",
    "d['green'] = 1\n",
    "d"
   ]
  },
  {
   "cell_type": "code",
   "execution_count": 108,
   "id": "e8c6df08",
   "metadata": {},
   "outputs": [
    {
     "data": {
      "text/plain": [
       "{'red': 7, 'blue': 3, 'green': 1}"
      ]
     },
     "execution_count": 108,
     "metadata": {},
     "output_type": "execute_result"
    }
   ],
   "source": [
    "d['red'] = 7   # 있는 key에 값을 대입하면, 기존의 값을 덮어 쓴다..\n",
    "d"
   ]
  },
  {
   "cell_type": "code",
   "execution_count": 110,
   "id": "bae37d4c",
   "metadata": {},
   "outputs": [],
   "source": [
    "'blue' in d"
   ]
  },
  {
   "cell_type": "code",
   "execution_count": 111,
   "id": "68905a3b",
   "metadata": {},
   "outputs": [
    {
     "data": {
      "text/plain": [
       "3"
      ]
     },
     "execution_count": 111,
     "metadata": {},
     "output_type": "execute_result"
    }
   ],
   "source": [
    "len(d)"
   ]
  },
  {
   "cell_type": "code",
   "execution_count": 112,
   "id": "9645063a",
   "metadata": {},
   "outputs": [
    {
     "data": {
      "text/plain": [
       "7"
      ]
     },
     "execution_count": 112,
     "metadata": {},
     "output_type": "execute_result"
    }
   ],
   "source": [
    "d['red']"
   ]
  },
  {
   "cell_type": "code",
   "execution_count": 113,
   "id": "c686bf28",
   "metadata": {},
   "outputs": [
    {
     "data": {
      "text/plain": [
       "{'red': 10, 'blue': 3, 'green': 1}"
      ]
     },
     "execution_count": 113,
     "metadata": {},
     "output_type": "execute_result"
    }
   ],
   "source": [
    "d['red'] = 10\n",
    "d"
   ]
  },
  {
   "cell_type": "code",
   "execution_count": 114,
   "id": "2bbca337",
   "metadata": {},
   "outputs": [
    {
     "data": {
      "text/plain": [
       "dict_keys(['red', 'blue', 'green'])"
      ]
     },
     "execution_count": 114,
     "metadata": {},
     "output_type": "execute_result"
    }
   ],
   "source": [
    "d.keys()"
   ]
  },
  {
   "cell_type": "code",
   "execution_count": 115,
   "id": "c8119290",
   "metadata": {},
   "outputs": [
    {
     "data": {
      "text/plain": [
       "dict_values([10, 3, 1])"
      ]
     },
     "execution_count": 115,
     "metadata": {},
     "output_type": "execute_result"
    }
   ],
   "source": [
    "d.values()"
   ]
  },
  {
   "cell_type": "code",
   "execution_count": 116,
   "id": "0cdd2fa6",
   "metadata": {},
   "outputs": [
    {
     "data": {
      "text/plain": [
       "dict_items([('red', 10), ('blue', 3), ('green', 1)])"
      ]
     },
     "execution_count": 116,
     "metadata": {},
     "output_type": "execute_result"
    }
   ],
   "source": [
    "d.items()"
   ]
  },
  {
   "cell_type": "code",
   "execution_count": null,
   "id": "45eefd60",
   "metadata": {},
   "outputs": [],
   "source": []
  },
  {
   "cell_type": "code",
   "execution_count": 118,
   "id": "c5293be3",
   "metadata": {},
   "outputs": [
    {
     "data": {
      "text/plain": [
       "[('blue', 3), ('green', 1), ('red', 10)]"
      ]
     },
     "execution_count": 118,
     "metadata": {},
     "output_type": "execute_result"
    }
   ],
   "source": [
    "sorted(d.items(), key =lambda x:x[0])"
   ]
  },
  {
   "cell_type": "code",
   "execution_count": 119,
   "id": "142c7cec",
   "metadata": {},
   "outputs": [
    {
     "data": {
      "text/plain": [
       "[('green', 1), ('blue', 3), ('red', 10)]"
      ]
     },
     "execution_count": 119,
     "metadata": {},
     "output_type": "execute_result"
    }
   ],
   "source": [
    "sorted(d.items(), key =lambda x:x[1])"
   ]
  },
  {
   "cell_type": "code",
   "execution_count": null,
   "id": "3873ad37",
   "metadata": {},
   "outputs": [],
   "source": []
  },
  {
   "cell_type": "code",
   "execution_count": 120,
   "id": "998bda59",
   "metadata": {},
   "outputs": [
    {
     "data": {
      "text/plain": [
       "3"
      ]
     },
     "execution_count": 120,
     "metadata": {},
     "output_type": "execute_result"
    }
   ],
   "source": [
    "d.pop('blue')"
   ]
  },
  {
   "cell_type": "code",
   "execution_count": 121,
   "id": "a7a6775a",
   "metadata": {},
   "outputs": [
    {
     "data": {
      "text/plain": [
       "{'red': 10, 'green': 1}"
      ]
     },
     "execution_count": 121,
     "metadata": {},
     "output_type": "execute_result"
    }
   ],
   "source": [
    "d"
   ]
  },
  {
   "cell_type": "code",
   "execution_count": 125,
   "id": "b1eb819c",
   "metadata": {},
   "outputs": [],
   "source": [
    "# dict.get('key') - 없는 key를 요청 시 에러를 발생시키지 않는다..\n",
    "# dict['key'] - 없는 key를 요청 시 에러 발생..\n",
    "# dict.setdefault('key', value) - key가 존재하면 value를 리턴, 없는 key라면 (key, value) 원소를 추가\n",
    "\n",
    "d.get('pink')"
   ]
  },
  {
   "cell_type": "code",
   "execution_count": 126,
   "id": "7e763a4b",
   "metadata": {},
   "outputs": [
    {
     "data": {
      "text/plain": [
       "10"
      ]
     },
     "execution_count": 126,
     "metadata": {},
     "output_type": "execute_result"
    }
   ],
   "source": [
    "d.setdefault('red', 100)"
   ]
  },
  {
   "cell_type": "code",
   "execution_count": 127,
   "id": "8fbf7085",
   "metadata": {},
   "outputs": [
    {
     "data": {
      "text/plain": [
       "100"
      ]
     },
     "execution_count": 127,
     "metadata": {},
     "output_type": "execute_result"
    }
   ],
   "source": [
    "d.setdefault('pink', 100)"
   ]
  },
  {
   "cell_type": "code",
   "execution_count": 129,
   "id": "5bb8d8a8",
   "metadata": {},
   "outputs": [
    {
     "data": {
      "text/plain": [
       "{'red': 10, 'green': 1, 'pink': 100}"
      ]
     },
     "execution_count": 129,
     "metadata": {},
     "output_type": "execute_result"
    }
   ],
   "source": [
    "d"
   ]
  },
  {
   "cell_type": "code",
   "execution_count": 132,
   "id": "e6665fff",
   "metadata": {},
   "outputs": [
    {
     "data": {
      "text/plain": [
       "True"
      ]
     },
     "execution_count": 132,
     "metadata": {},
     "output_type": "execute_result"
    }
   ],
   "source": [
    "10 in d.values()"
   ]
  },
  {
   "cell_type": "code",
   "execution_count": 133,
   "id": "4c400ebd",
   "metadata": {},
   "outputs": [
    {
     "data": {
      "text/plain": [
       "{'red': 10, 'green': 1, 'pink': 100, 'yellow': 30}"
      ]
     },
     "execution_count": 133,
     "metadata": {},
     "output_type": "execute_result"
    }
   ],
   "source": [
    "d['yellow'] = 30\n",
    "d"
   ]
  },
  {
   "cell_type": "code",
   "execution_count": 134,
   "id": "1a374375",
   "metadata": {},
   "outputs": [],
   "source": [
    "yourdict = {'파랑':50, '빨강':70}\n",
    "d.update(yourdict)"
   ]
  },
  {
   "cell_type": "code",
   "execution_count": 135,
   "id": "1cb57f1d",
   "metadata": {},
   "outputs": [
    {
     "data": {
      "text/plain": [
       "{'red': 10, 'green': 1, 'pink': 100, 'yellow': 30, '파랑': 50, '빨강': 70}"
      ]
     },
     "execution_count": 135,
     "metadata": {},
     "output_type": "execute_result"
    }
   ],
   "source": [
    "d"
   ]
  },
  {
   "cell_type": "code",
   "execution_count": null,
   "id": "0872fc17",
   "metadata": {},
   "outputs": [],
   "source": []
  }
 ],
 "metadata": {
  "kernelspec": {
   "display_name": "Python 3 (ipykernel)",
   "language": "python",
   "name": "python3"
  },
  "language_info": {
   "codemirror_mode": {
    "name": "ipython",
    "version": 3
   },
   "file_extension": ".py",
   "mimetype": "text/x-python",
   "name": "python",
   "nbconvert_exporter": "python",
   "pygments_lexer": "ipython3",
   "version": "3.9.7"
  }
 },
 "nbformat": 4,
 "nbformat_minor": 5
}
