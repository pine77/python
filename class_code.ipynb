{
 "cells": [
  {
   "cell_type": "code",
   "execution_count": 1,
   "id": "3b0b7aae",
   "metadata": {},
   "outputs": [],
   "source": [
    "# class\n",
    "\n",
    "# 자주 함께 사용하는 함수들과 변수들을 하나의 덩어리로 묶어서 사용하자..\n",
    "# class - 함수와 변수들의 묶은 덩어리.. => 원본.. => 보존..\n",
    "# class 사용 - class를 복사해서 사용.. => class를 복사한 것 (instance)\n",
    "# class <=  (함수(method)들.... , 변수(attribute)들....)\n",
    "\n",
    "# 복사 : 변수(인스턴스) = class()\n",
    "\n",
    "# class를 복사 => instance를 생성한다. 객체를 생성..\n",
    "\n",
    "# class 내에 있는 함수 - 메소드(method)\n",
    "# class 내에 있는 변수 - 속성(attribute)\n",
    "\n",
    "# class - 붕어빵 기계, 설계도, => 복사  => instance - 붕어빵, 복사한 설계도\n",
    "\n",
    "# 인스턴스.메소드() : '.' - 접근자(인스턴스에서 복사해온 메소드나 변수를 사용)\n",
    "# 인스턴스.속성"
   ]
  },
  {
   "cell_type": "code",
   "execution_count": 2,
   "id": "6882644e",
   "metadata": {},
   "outputs": [
    {
     "name": "stdout",
     "output_type": "stream",
     "text": [
      "====================\n",
      "Name : yuna\n",
      "Email : yuna@hanmail.net\n",
      "Address : Seoul\n",
      "====================\n"
     ]
    }
   ],
   "source": [
    "# 명함을 찍는 코드\n",
    "\n",
    "print('='*20)\n",
    "print('Name : {}'.format('yuna'))\n",
    "print('Email : {}'.format('yuna@hanmail.net'))\n",
    "print('Address : {}'.format('Seoul'))\n",
    "print('='*20)"
   ]
  },
  {
   "cell_type": "code",
   "execution_count": 3,
   "id": "e2d2159e",
   "metadata": {},
   "outputs": [],
   "source": [
    "# 함수\n",
    "\n",
    "def BusinessCard():\n",
    "    print('='*20)\n",
    "    print('Name : {}'.format('yuna'))\n",
    "    print('Email : {}'.format('yuna@hanmail.net'))\n",
    "    print('Address : {}'.format('Seoul'))\n",
    "    print('='*20)"
   ]
  },
  {
   "cell_type": "code",
   "execution_count": 4,
   "id": "bef78cb2",
   "metadata": {},
   "outputs": [
    {
     "name": "stdout",
     "output_type": "stream",
     "text": [
      "====================\n",
      "Name : yuna\n",
      "Email : yuna@hanmail.net\n",
      "Address : Seoul\n",
      "====================\n"
     ]
    }
   ],
   "source": [
    "BusinessCard()"
   ]
  },
  {
   "cell_type": "code",
   "execution_count": null,
   "id": "4bb8d0fa",
   "metadata": {},
   "outputs": [],
   "source": []
  },
  {
   "cell_type": "code",
   "execution_count": 6,
   "id": "1f269166",
   "metadata": {},
   "outputs": [],
   "source": [
    "# 매개변수..\n",
    "\n",
    "def BusinessCard(name, email, address):\n",
    "    print('='*20)\n",
    "    print('Name : {}'.format(name))\n",
    "    print('Email : {}'.format(email))\n",
    "    print('Address : {}'.format(address))\n",
    "    print('='*20)"
   ]
  },
  {
   "cell_type": "code",
   "execution_count": 7,
   "id": "671d36ae",
   "metadata": {
    "collapsed": true
   },
   "outputs": [
    {
     "name": "stdout",
     "output_type": "stream",
     "text": [
      "====================\n",
      "Name : yuna\n",
      "Email : yuna@hanmail.net\n",
      "Address : Seoul\n",
      "====================\n"
     ]
    }
   ],
   "source": [
    "name = 'yuna'\n",
    "email = 'yuna@hanmail.net'\n",
    "address = 'Seoul'\n",
    "\n",
    "BusinessCard(name, email, address)"
   ]
  },
  {
   "cell_type": "code",
   "execution_count": 8,
   "id": "6b3199ae",
   "metadata": {
    "collapsed": true
   },
   "outputs": [
    {
     "name": "stdout",
     "output_type": "stream",
     "text": [
      "====================\n",
      "Name : park\n",
      "Email : park@hanmail.net\n",
      "Address : Incheon\n",
      "====================\n"
     ]
    }
   ],
   "source": [
    "name = 'park'\n",
    "email = 'park@hanmail.net'\n",
    "address = 'Incheon'\n",
    "\n",
    "BusinessCard(name, email, address)"
   ]
  },
  {
   "cell_type": "code",
   "execution_count": null,
   "id": "e17c9292",
   "metadata": {},
   "outputs": [],
   "source": []
  },
  {
   "cell_type": "code",
   "execution_count": null,
   "id": "3f606149",
   "metadata": {},
   "outputs": [],
   "source": [
    "# class - 함꼐 사용하는 변수와 함수들을 묶자..\n",
    "# 메소드가 self라는 매개변수를 받는다 - 인스턴스 메소드\n",
    "# 변수도 앞에 self를 붙인다.. - 인스턴스 변수\n",
    "\n",
    "# self - 인스턴스의 주소값"
   ]
  },
  {
   "cell_type": "code",
   "execution_count": 2,
   "id": "3cdb41a0",
   "metadata": {},
   "outputs": [],
   "source": [
    "class BusinessCard:\n",
    "    name = 'park'\n",
    "    email = 'park@hanmail.net'\n",
    "    address = 'Incheon'\n",
    "    \n",
    "    def BusinessCard(self, name, email, address):\n",
    "        print('='*20)\n",
    "        print('Name : {}'.format(name))\n",
    "        print('Email : {}'.format(email))\n",
    "        print('Address : {}'.format(address))\n",
    "        print('='*20)"
   ]
  },
  {
   "cell_type": "code",
   "execution_count": 4,
   "id": "73abeb55",
   "metadata": {
    "collapsed": true
   },
   "outputs": [
    {
     "name": "stdout",
     "output_type": "stream",
     "text": [
      "====================\n",
      "Name : park\n",
      "Email : park@hanmail.net\n",
      "Address : seoul\n",
      "====================\n"
     ]
    }
   ],
   "source": [
    "bc = BusinessCard()\n",
    "bc.BusinessCard('park', 'park@hanmail.net', 'seoul')"
   ]
  },
  {
   "cell_type": "code",
   "execution_count": 5,
   "id": "86dad098",
   "metadata": {
    "collapsed": true
   },
   "outputs": [
    {
     "data": {
      "text/plain": [
       "'park'"
      ]
     },
     "execution_count": 5,
     "metadata": {},
     "output_type": "execute_result"
    }
   ],
   "source": [
    "bc.name"
   ]
  },
  {
   "cell_type": "code",
   "execution_count": null,
   "id": "4f886fa7",
   "metadata": {},
   "outputs": [],
   "source": []
  },
  {
   "cell_type": "code",
   "execution_count": 15,
   "id": "d5a429e0",
   "metadata": {},
   "outputs": [],
   "source": [
    "class BusinessCard:\n",
    "    \n",
    "    def set_info(self, name, email, address):\n",
    "        self.name = name  # self.변수 - 인스턴스 변수 (특정 인스턴스 내에서만 공유되는 변수)\n",
    "        self.email = email\n",
    "        self.address = address\n",
    "    \n",
    "    def BusinessCard(self):\n",
    "        print('='*20)\n",
    "        print('Name : {}'.format(self.name))\n",
    "        print('Email : {}'.format(self.email))\n",
    "        print('Address : {}'.format(self.address))\n",
    "        print('='*20)"
   ]
  },
  {
   "cell_type": "code",
   "execution_count": 16,
   "id": "610a5c5e",
   "metadata": {},
   "outputs": [],
   "source": [
    "bc = BusinessCard()"
   ]
  },
  {
   "cell_type": "code",
   "execution_count": 17,
   "id": "f5eaf246",
   "metadata": {},
   "outputs": [],
   "source": [
    "# 인스턴스는 class를 복사한 것 - class 내의 모든 메소드, 속성들을 복사해 옴..\n",
    "# 인스턴스에서 복사해 온 class의 메소드나 변수를 사용할 때 '.' => 접근자\n",
    "\n",
    "bc.set_info('yuna', 'yuna@hanmail.net', 'seoul')"
   ]
  },
  {
   "cell_type": "code",
   "execution_count": 18,
   "id": "ffe1ee77",
   "metadata": {},
   "outputs": [
    {
     "name": "stdout",
     "output_type": "stream",
     "text": [
      "====================\n",
      "Name : yuna\n",
      "Email : yuna@hanmail.net\n",
      "Address : seoul\n",
      "====================\n"
     ]
    }
   ],
   "source": [
    "bc.BusinessCard()"
   ]
  },
  {
   "cell_type": "code",
   "execution_count": 19,
   "id": "ac581cda",
   "metadata": {},
   "outputs": [
    {
     "name": "stdout",
     "output_type": "stream",
     "text": [
      "====================\n",
      "Name : park\n",
      "Email : park@hanmail.net\n",
      "Address : incheon\n",
      "====================\n"
     ]
    }
   ],
   "source": [
    "bc1 = BusinessCard()\n",
    "bc1.set_info('park', 'park@hanmail.net', 'incheon')\n",
    "bc1.BusinessCard()"
   ]
  },
  {
   "cell_type": "code",
   "execution_count": 20,
   "id": "58d9be4a",
   "metadata": {
    "collapsed": true
   },
   "outputs": [
    {
     "name": "stdout",
     "output_type": "stream",
     "text": [
      "====================\n"
     ]
    },
    {
     "ename": "AttributeError",
     "evalue": "'BusinessCard' object has no attribute 'name'",
     "output_type": "error",
     "traceback": [
      "\u001b[1;31m---------------------------------------------------------------------------\u001b[0m",
      "\u001b[1;31mAttributeError\u001b[0m                            Traceback (most recent call last)",
      "\u001b[1;32m~\\AppData\\Local\\Temp/ipykernel_10968/2008738796.py\u001b[0m in \u001b[0;36m<module>\u001b[1;34m\u001b[0m\n\u001b[0;32m      1\u001b[0m \u001b[0mbc2\u001b[0m \u001b[1;33m=\u001b[0m \u001b[0mBusinessCard\u001b[0m\u001b[1;33m(\u001b[0m\u001b[1;33m)\u001b[0m\u001b[1;33m\u001b[0m\u001b[1;33m\u001b[0m\u001b[0m\n\u001b[1;32m----> 2\u001b[1;33m \u001b[0mbc2\u001b[0m\u001b[1;33m.\u001b[0m\u001b[0mBusinessCard\u001b[0m\u001b[1;33m(\u001b[0m\u001b[1;33m)\u001b[0m\u001b[1;33m\u001b[0m\u001b[1;33m\u001b[0m\u001b[0m\n\u001b[0m",
      "\u001b[1;32m~\\AppData\\Local\\Temp/ipykernel_10968/1387837050.py\u001b[0m in \u001b[0;36mBusinessCard\u001b[1;34m(self)\u001b[0m\n\u001b[0;32m      8\u001b[0m     \u001b[1;32mdef\u001b[0m \u001b[0mBusinessCard\u001b[0m\u001b[1;33m(\u001b[0m\u001b[0mself\u001b[0m\u001b[1;33m)\u001b[0m\u001b[1;33m:\u001b[0m\u001b[1;33m\u001b[0m\u001b[1;33m\u001b[0m\u001b[0m\n\u001b[0;32m      9\u001b[0m         \u001b[0mprint\u001b[0m\u001b[1;33m(\u001b[0m\u001b[1;34m'='\u001b[0m\u001b[1;33m*\u001b[0m\u001b[1;36m20\u001b[0m\u001b[1;33m)\u001b[0m\u001b[1;33m\u001b[0m\u001b[1;33m\u001b[0m\u001b[0m\n\u001b[1;32m---> 10\u001b[1;33m         \u001b[0mprint\u001b[0m\u001b[1;33m(\u001b[0m\u001b[1;34m'Name : {}'\u001b[0m\u001b[1;33m.\u001b[0m\u001b[0mformat\u001b[0m\u001b[1;33m(\u001b[0m\u001b[0mself\u001b[0m\u001b[1;33m.\u001b[0m\u001b[0mname\u001b[0m\u001b[1;33m)\u001b[0m\u001b[1;33m)\u001b[0m\u001b[1;33m\u001b[0m\u001b[1;33m\u001b[0m\u001b[0m\n\u001b[0m\u001b[0;32m     11\u001b[0m         \u001b[0mprint\u001b[0m\u001b[1;33m(\u001b[0m\u001b[1;34m'Email : {}'\u001b[0m\u001b[1;33m.\u001b[0m\u001b[0mformat\u001b[0m\u001b[1;33m(\u001b[0m\u001b[0mself\u001b[0m\u001b[1;33m.\u001b[0m\u001b[0memail\u001b[0m\u001b[1;33m)\u001b[0m\u001b[1;33m)\u001b[0m\u001b[1;33m\u001b[0m\u001b[1;33m\u001b[0m\u001b[0m\n\u001b[0;32m     12\u001b[0m         \u001b[0mprint\u001b[0m\u001b[1;33m(\u001b[0m\u001b[1;34m'Address : {}'\u001b[0m\u001b[1;33m.\u001b[0m\u001b[0mformat\u001b[0m\u001b[1;33m(\u001b[0m\u001b[0mself\u001b[0m\u001b[1;33m.\u001b[0m\u001b[0maddress\u001b[0m\u001b[1;33m)\u001b[0m\u001b[1;33m)\u001b[0m\u001b[1;33m\u001b[0m\u001b[1;33m\u001b[0m\u001b[0m\n",
      "\u001b[1;31mAttributeError\u001b[0m: 'BusinessCard' object has no attribute 'name'"
     ]
    }
   ],
   "source": [
    "bc2 = BusinessCard()\n",
    "bc2.BusinessCard()"
   ]
  },
  {
   "cell_type": "code",
   "execution_count": 21,
   "id": "1c40f298",
   "metadata": {
    "collapsed": true
   },
   "outputs": [
    {
     "name": "stdout",
     "output_type": "stream",
     "text": [
      "====================\n",
      "Name : kim\n",
      "Email : kim@hanmail.net\n",
      "Address : pusan\n",
      "====================\n"
     ]
    }
   ],
   "source": [
    "bc2 = BusinessCard()\n",
    "bc2.set_info('kim', 'kim@hanmail.net', 'pusan')\n",
    "bc2.BusinessCard()"
   ]
  },
  {
   "cell_type": "code",
   "execution_count": 22,
   "id": "bed4e7dd",
   "metadata": {
    "collapsed": true
   },
   "outputs": [
    {
     "name": "stdout",
     "output_type": "stream",
     "text": [
      "====================\n"
     ]
    },
    {
     "ename": "AttributeError",
     "evalue": "'BusinessCard' object has no attribute 'name'",
     "output_type": "error",
     "traceback": [
      "\u001b[1;31m---------------------------------------------------------------------------\u001b[0m",
      "\u001b[1;31mAttributeError\u001b[0m                            Traceback (most recent call last)",
      "\u001b[1;32m~\\AppData\\Local\\Temp/ipykernel_10968/3990376034.py\u001b[0m in \u001b[0;36m<module>\u001b[1;34m\u001b[0m\n\u001b[0;32m      1\u001b[0m \u001b[0mbc3\u001b[0m \u001b[1;33m=\u001b[0m \u001b[0mBusinessCard\u001b[0m\u001b[1;33m(\u001b[0m\u001b[1;33m)\u001b[0m\u001b[1;33m\u001b[0m\u001b[1;33m\u001b[0m\u001b[0m\n\u001b[1;32m----> 2\u001b[1;33m \u001b[0mbc3\u001b[0m\u001b[1;33m.\u001b[0m\u001b[0mBusinessCard\u001b[0m\u001b[1;33m(\u001b[0m\u001b[1;33m)\u001b[0m\u001b[1;33m\u001b[0m\u001b[1;33m\u001b[0m\u001b[0m\n\u001b[0m",
      "\u001b[1;32m~\\AppData\\Local\\Temp/ipykernel_10968/1387837050.py\u001b[0m in \u001b[0;36mBusinessCard\u001b[1;34m(self)\u001b[0m\n\u001b[0;32m      8\u001b[0m     \u001b[1;32mdef\u001b[0m \u001b[0mBusinessCard\u001b[0m\u001b[1;33m(\u001b[0m\u001b[0mself\u001b[0m\u001b[1;33m)\u001b[0m\u001b[1;33m:\u001b[0m\u001b[1;33m\u001b[0m\u001b[1;33m\u001b[0m\u001b[0m\n\u001b[0;32m      9\u001b[0m         \u001b[0mprint\u001b[0m\u001b[1;33m(\u001b[0m\u001b[1;34m'='\u001b[0m\u001b[1;33m*\u001b[0m\u001b[1;36m20\u001b[0m\u001b[1;33m)\u001b[0m\u001b[1;33m\u001b[0m\u001b[1;33m\u001b[0m\u001b[0m\n\u001b[1;32m---> 10\u001b[1;33m         \u001b[0mprint\u001b[0m\u001b[1;33m(\u001b[0m\u001b[1;34m'Name : {}'\u001b[0m\u001b[1;33m.\u001b[0m\u001b[0mformat\u001b[0m\u001b[1;33m(\u001b[0m\u001b[0mself\u001b[0m\u001b[1;33m.\u001b[0m\u001b[0mname\u001b[0m\u001b[1;33m)\u001b[0m\u001b[1;33m)\u001b[0m\u001b[1;33m\u001b[0m\u001b[1;33m\u001b[0m\u001b[0m\n\u001b[0m\u001b[0;32m     11\u001b[0m         \u001b[0mprint\u001b[0m\u001b[1;33m(\u001b[0m\u001b[1;34m'Email : {}'\u001b[0m\u001b[1;33m.\u001b[0m\u001b[0mformat\u001b[0m\u001b[1;33m(\u001b[0m\u001b[0mself\u001b[0m\u001b[1;33m.\u001b[0m\u001b[0memail\u001b[0m\u001b[1;33m)\u001b[0m\u001b[1;33m)\u001b[0m\u001b[1;33m\u001b[0m\u001b[1;33m\u001b[0m\u001b[0m\n\u001b[0;32m     12\u001b[0m         \u001b[0mprint\u001b[0m\u001b[1;33m(\u001b[0m\u001b[1;34m'Address : {}'\u001b[0m\u001b[1;33m.\u001b[0m\u001b[0mformat\u001b[0m\u001b[1;33m(\u001b[0m\u001b[0mself\u001b[0m\u001b[1;33m.\u001b[0m\u001b[0maddress\u001b[0m\u001b[1;33m)\u001b[0m\u001b[1;33m)\u001b[0m\u001b[1;33m\u001b[0m\u001b[1;33m\u001b[0m\u001b[0m\n",
      "\u001b[1;31mAttributeError\u001b[0m: 'BusinessCard' object has no attribute 'name'"
     ]
    }
   ],
   "source": [
    "bc3 = BusinessCard()\n",
    "bc3.BusinessCard()"
   ]
  },
  {
   "cell_type": "code",
   "execution_count": null,
   "id": "76c0df47",
   "metadata": {},
   "outputs": [],
   "source": []
  },
  {
   "cell_type": "code",
   "execution_count": 6,
   "id": "b04797d4",
   "metadata": {},
   "outputs": [],
   "source": [
    "# class를 사용하기 위해서 필요한 값들은 \n",
    "# 클래스를 복사하는 순간(인스턴스 생성)에 강제로 입력하도록 만들자..\n",
    "\n",
    "# => 클래스가 복사되는 순간 set_info()함수가 강제로 실행되도록.. \n",
    "# => 생성자 함수 : 클래스가 복사되는 순간 강제로 실행되는 함수..\n",
    "\n",
    "class BusinessCard:\n",
    "    \n",
    "    def __init__(self, name, email, address):\n",
    "        self.name = name  # self.변수 - 인스턴스 변수 (특정 인스턴스 내에서만 공유되는 변수)\n",
    "        self.email = email\n",
    "        self.address = address\n",
    "    \n",
    "    def BusinessCard(self):\n",
    "        print('='*20)\n",
    "        print('Name : {}'.format(self.name))\n",
    "        print('Email : {}'.format(self.email))\n",
    "        print('Address : {}'.format(self.address))\n",
    "        print('='*20)"
   ]
  },
  {
   "cell_type": "code",
   "execution_count": 7,
   "id": "a652690f",
   "metadata": {
    "collapsed": true
   },
   "outputs": [
    {
     "ename": "TypeError",
     "evalue": "__init__() missing 3 required positional arguments: 'name', 'email', and 'address'",
     "output_type": "error",
     "traceback": [
      "\u001b[1;31m---------------------------------------------------------------------------\u001b[0m",
      "\u001b[1;31mTypeError\u001b[0m                                 Traceback (most recent call last)",
      "\u001b[1;32m~\\AppData\\Local\\Temp/ipykernel_9920/1809661786.py\u001b[0m in \u001b[0;36m<module>\u001b[1;34m\u001b[0m\n\u001b[0;32m      1\u001b[0m \u001b[1;31m# instance 생성 순간.. __init__함수 실행 => __init__함수가 필요로 하는 매개변수를 넘겨줘야 에러가 안 남..\u001b[0m\u001b[1;33m\u001b[0m\u001b[1;33m\u001b[0m\u001b[0m\n\u001b[1;32m----> 2\u001b[1;33m \u001b[0mbc\u001b[0m \u001b[1;33m=\u001b[0m \u001b[0mBusinessCard\u001b[0m\u001b[1;33m(\u001b[0m\u001b[1;33m)\u001b[0m\u001b[1;33m\u001b[0m\u001b[1;33m\u001b[0m\u001b[0m\n\u001b[0m",
      "\u001b[1;31mTypeError\u001b[0m: __init__() missing 3 required positional arguments: 'name', 'email', and 'address'"
     ]
    }
   ],
   "source": [
    "# instance 생성 순간.. __init__함수 실행 => __init__함수가 필요로 하는 매개변수를 넘겨줘야 에러가 안 남..\n",
    "bc = BusinessCard() "
   ]
  },
  {
   "cell_type": "code",
   "execution_count": 9,
   "id": "1c0a6983",
   "metadata": {},
   "outputs": [],
   "source": [
    "# 인스턴스를 생성하는 순간에 __init__가 필요로 하는 매개변수를 전달해야 함.\n",
    "bc = BusinessCard('yuna', 'yuna@hanmail.net', 'seoul')"
   ]
  },
  {
   "cell_type": "code",
   "execution_count": null,
   "id": "d3c72534",
   "metadata": {},
   "outputs": [],
   "source": [
    "# 인스턴스 내에서 사용될 변수나 함수(메서드)에는 self를 붙인다.."
   ]
  },
  {
   "cell_type": "code",
   "execution_count": 10,
   "id": "2e4cee79",
   "metadata": {},
   "outputs": [
    {
     "data": {
      "text/plain": [
       "'yuna'"
      ]
     },
     "execution_count": 10,
     "metadata": {},
     "output_type": "execute_result"
    }
   ],
   "source": [
    "bc.name   # 밖에서 사용할 때는 self를 붙이지 않는다.."
   ]
  },
  {
   "cell_type": "code",
   "execution_count": 11,
   "id": "fcc4580f",
   "metadata": {},
   "outputs": [
    {
     "name": "stdout",
     "output_type": "stream",
     "text": [
      "====================\n",
      "Name : yuna\n",
      "Email : yuna@hanmail.net\n",
      "Address : seoul\n",
      "====================\n"
     ]
    }
   ],
   "source": [
    "bc.BusinessCard()"
   ]
  },
  {
   "cell_type": "code",
   "execution_count": null,
   "id": "6ec77398",
   "metadata": {},
   "outputs": [],
   "source": []
  },
  {
   "cell_type": "code",
   "execution_count": null,
   "id": "f75c36af",
   "metadata": {},
   "outputs": [],
   "source": [
    "# class 변수\n",
    "# 특정 인스턴스 내부가 아닌, 모든 인스턴스에서 공유하는 변수..\n",
    "# 클래스 변수의 정의 - 클래스 내에서 변수 앞에 self를 쓰지 않으면 class변수로 정의\n",
    "# 클래스 변수에 접근할 때는 클래스 명으로 접근..\n",
    "# 인스턴스 변수로 클래스변수에 접근하는 경우, 동일 이름의 인스턴스 변수가 없으면 가능..\n",
    "\n",
    "# 인스턴스 변수 - 특정 인스턴스 내에서만 공유되는 변수.."
   ]
  },
  {
   "cell_type": "code",
   "execution_count": 14,
   "id": "dd1f0d4b",
   "metadata": {},
   "outputs": [],
   "source": [
    "class Circle:\n",
    "    \n",
    "    pi = 3.14  # self를 붙이지 않은 변수 - 클래스 변수\n",
    "    \n",
    "    def __init__(self, radius):\n",
    "        self.radius = radius  # 인스턴스 변수\n",
    "        \n",
    "    def area(self):\n",
    "        circle_area = Circle.pi * pow(self.radius, 2)  # 클래스명.클래스변수\n",
    "        return circle_area\n",
    "    \n",
    "    def perimeter(self):\n",
    "        circle_perimeter = Circle.pi * 2 * self.radius\n",
    "        return circle_perimeter       \n",
    "        "
   ]
  },
  {
   "cell_type": "code",
   "execution_count": null,
   "id": "f586c7bf",
   "metadata": {},
   "outputs": [],
   "source": [
    "# self를 붙인 변수 - 인스턴스 변수, 인스턴스 내에서 사용될 변수\n",
    "#                                   인스턴스 마다 다른 값을 저장하는 변수..\n",
    "# 매개변수로 self를 받는 메서드 - 인스턴스 메서드, 인스턴스 내에서 사용될 함수..\n",
    "\n",
    "# self를 붙이지 않은 변수 - 클래스 변수, 모든 인스턴스가 공유하는 변수..\n",
    "#                                        전체 인스턴스에서 하나의 값을 갖는 변수"
   ]
  },
  {
   "cell_type": "code",
   "execution_count": null,
   "id": "c2599d8a",
   "metadata": {},
   "outputs": [],
   "source": []
  },
  {
   "cell_type": "code",
   "execution_count": 15,
   "id": "8865fd9f",
   "metadata": {},
   "outputs": [],
   "source": [
    "cir = Circle(3)  # self.radius = 3"
   ]
  },
  {
   "cell_type": "code",
   "execution_count": 48,
   "id": "15231ae5",
   "metadata": {},
   "outputs": [
    {
     "data": {
      "text/plain": [
       "28.26"
      ]
     },
     "execution_count": 48,
     "metadata": {},
     "output_type": "execute_result"
    }
   ],
   "source": [
    "cir.area()"
   ]
  },
  {
   "cell_type": "code",
   "execution_count": 16,
   "id": "3e376780",
   "metadata": {},
   "outputs": [
    {
     "data": {
      "text/plain": [
       "18.84"
      ]
     },
     "execution_count": 16,
     "metadata": {},
     "output_type": "execute_result"
    }
   ],
   "source": [
    "cir.perimeter()"
   ]
  },
  {
   "cell_type": "code",
   "execution_count": 17,
   "id": "88f2f3a7",
   "metadata": {},
   "outputs": [
    {
     "data": {
      "text/plain": [
       "3"
      ]
     },
     "execution_count": 17,
     "metadata": {},
     "output_type": "execute_result"
    }
   ],
   "source": [
    "cir.radius  # 인스턴스 변수"
   ]
  },
  {
   "cell_type": "code",
   "execution_count": 18,
   "id": "91dd8612",
   "metadata": {},
   "outputs": [
    {
     "data": {
      "text/plain": [
       "3.14"
      ]
     },
     "execution_count": 18,
     "metadata": {},
     "output_type": "execute_result"
    }
   ],
   "source": [
    "cir.pi"
   ]
  },
  {
   "cell_type": "code",
   "execution_count": null,
   "id": "52934a28",
   "metadata": {},
   "outputs": [],
   "source": []
  },
  {
   "cell_type": "code",
   "execution_count": 21,
   "id": "375a147b",
   "metadata": {},
   "outputs": [],
   "source": [
    "cir1 = Circle(5)  # self.radius = 5"
   ]
  },
  {
   "cell_type": "code",
   "execution_count": 22,
   "id": "d2b18878",
   "metadata": {},
   "outputs": [
    {
     "data": {
      "text/plain": [
       "78.5"
      ]
     },
     "execution_count": 22,
     "metadata": {},
     "output_type": "execute_result"
    }
   ],
   "source": [
    "cir1.area()"
   ]
  },
  {
   "cell_type": "code",
   "execution_count": 23,
   "id": "98f2de4b",
   "metadata": {},
   "outputs": [
    {
     "data": {
      "text/plain": [
       "31.400000000000002"
      ]
     },
     "execution_count": 23,
     "metadata": {},
     "output_type": "execute_result"
    }
   ],
   "source": [
    "cir1.perimeter()"
   ]
  },
  {
   "cell_type": "code",
   "execution_count": 24,
   "id": "5354c77b",
   "metadata": {},
   "outputs": [
    {
     "data": {
      "text/plain": [
       "5"
      ]
     },
     "execution_count": 24,
     "metadata": {},
     "output_type": "execute_result"
    }
   ],
   "source": [
    "cir1.radius  # 인스턴스 변수"
   ]
  },
  {
   "cell_type": "code",
   "execution_count": 25,
   "id": "5c495e35",
   "metadata": {},
   "outputs": [
    {
     "data": {
      "text/plain": [
       "3.14"
      ]
     },
     "execution_count": 25,
     "metadata": {},
     "output_type": "execute_result"
    }
   ],
   "source": [
    "cir1.pi  # 클레스 변수는 모든 인스턴스에서 고정된 값.."
   ]
  },
  {
   "cell_type": "code",
   "execution_count": null,
   "id": "b3bf39de",
   "metadata": {},
   "outputs": [],
   "source": []
  },
  {
   "cell_type": "code",
   "execution_count": 41,
   "id": "f1225e7b",
   "metadata": {},
   "outputs": [
    {
     "data": {
      "text/plain": [
       "3.14"
      ]
     },
     "execution_count": 41,
     "metadata": {},
     "output_type": "execute_result"
    }
   ],
   "source": [
    "cir.pi"
   ]
  },
  {
   "cell_type": "code",
   "execution_count": 42,
   "id": "7b42d9d4",
   "metadata": {},
   "outputs": [
    {
     "data": {
      "text/plain": [
       "3.14"
      ]
     },
     "execution_count": 42,
     "metadata": {},
     "output_type": "execute_result"
    }
   ],
   "source": [
    "cir1.pi"
   ]
  },
  {
   "cell_type": "code",
   "execution_count": 55,
   "id": "cc1974db",
   "metadata": {},
   "outputs": [
    {
     "data": {
      "text/plain": [
       "3.14"
      ]
     },
     "execution_count": 55,
     "metadata": {},
     "output_type": "execute_result"
    }
   ],
   "source": [
    "Circle.pi"
   ]
  },
  {
   "cell_type": "code",
   "execution_count": null,
   "id": "87e05fcf",
   "metadata": {},
   "outputs": [],
   "source": []
  },
  {
   "cell_type": "code",
   "execution_count": 56,
   "id": "ab734b33",
   "metadata": {},
   "outputs": [],
   "source": [
    "# 상속.."
   ]
  },
  {
   "cell_type": "code",
   "execution_count": 29,
   "id": "0c794c55",
   "metadata": {},
   "outputs": [],
   "source": [
    "class Parent:\n",
    "    def can_sing(self):\n",
    "        print('sing a song')"
   ]
  },
  {
   "cell_type": "code",
   "execution_count": 30,
   "id": "de02ae10",
   "metadata": {},
   "outputs": [],
   "source": [
    "p = Parent()"
   ]
  },
  {
   "cell_type": "code",
   "execution_count": 31,
   "id": "85c20ba8",
   "metadata": {},
   "outputs": [
    {
     "name": "stdout",
     "output_type": "stream",
     "text": [
      "sing a song\n"
     ]
    }
   ],
   "source": [
    "p.can_sing()"
   ]
  },
  {
   "cell_type": "code",
   "execution_count": null,
   "id": "e258fa03",
   "metadata": {},
   "outputs": [],
   "source": []
  },
  {
   "cell_type": "code",
   "execution_count": 32,
   "id": "31308431",
   "metadata": {},
   "outputs": [],
   "source": [
    "# Parent class를 상속.. => Parent class의 모든 요소(속성, 메소드)를 가져옴\n",
    "\n",
    "class Child(Parent):\n",
    "    pass"
   ]
  },
  {
   "cell_type": "code",
   "execution_count": 33,
   "id": "9bde240e",
   "metadata": {},
   "outputs": [],
   "source": [
    "c = Child()"
   ]
  },
  {
   "cell_type": "code",
   "execution_count": 34,
   "id": "f73c02df",
   "metadata": {},
   "outputs": [
    {
     "name": "stdout",
     "output_type": "stream",
     "text": [
      "sing a song\n"
     ]
    }
   ],
   "source": [
    "c.can_sing()"
   ]
  },
  {
   "cell_type": "code",
   "execution_count": null,
   "id": "86f54443",
   "metadata": {},
   "outputs": [],
   "source": []
  },
  {
   "cell_type": "code",
   "execution_count": 35,
   "id": "c8db7254",
   "metadata": {},
   "outputs": [],
   "source": [
    "class Child(Parent):\n",
    "    def can_dance(self):\n",
    "        print('play dancing')"
   ]
  },
  {
   "cell_type": "code",
   "execution_count": 36,
   "id": "1710fcbc",
   "metadata": {},
   "outputs": [],
   "source": [
    "c = Child()"
   ]
  },
  {
   "cell_type": "code",
   "execution_count": 37,
   "id": "e77bc458",
   "metadata": {},
   "outputs": [
    {
     "name": "stdout",
     "output_type": "stream",
     "text": [
      "sing a song\n"
     ]
    }
   ],
   "source": [
    "c.can_sing()  # 부모 클래스로부터 상속 받은 메소드"
   ]
  },
  {
   "cell_type": "code",
   "execution_count": 38,
   "id": "bd00939f",
   "metadata": {},
   "outputs": [
    {
     "name": "stdout",
     "output_type": "stream",
     "text": [
      "play dancing\n"
     ]
    }
   ],
   "source": [
    "c.can_dance()  # 자신의 메소드"
   ]
  },
  {
   "cell_type": "code",
   "execution_count": null,
   "id": "fd6211d9",
   "metadata": {},
   "outputs": [],
   "source": []
  },
  {
   "cell_type": "code",
   "execution_count": null,
   "id": "4e2d70e7",
   "metadata": {},
   "outputs": [],
   "source": [
    "# quiz\n",
    "# 임의의 정수 2개를 인스턴스 변수로 받은 후\n",
    "# 사칙연산의 메소드를 가진 클래스를 정의하고 (addf, mulf, divf, subf)\n",
    "# 인스턴스를 만들어서 메소드를 실행하시오.."
   ]
  },
  {
   "cell_type": "code",
   "execution_count": 39,
   "id": "06650fef",
   "metadata": {},
   "outputs": [],
   "source": [
    "class FourCal:\n",
    "    \n",
    "    def __init__(self, x, y):\n",
    "        self.x = x\n",
    "        self.y = y\n",
    "        \n",
    "    def addf(self):\n",
    "        result = self.x + self.y\n",
    "        return result\n",
    "    \n",
    "    def mulf(self):\n",
    "        result = self.x * self.y\n",
    "        return result\n",
    "    \n",
    "    def divf(self):\n",
    "        result = self.x  / self.y\n",
    "        return result\n",
    "    \n",
    "    def subf(self):\n",
    "        result = self.x -  self.y\n",
    "        return result"
   ]
  },
  {
   "cell_type": "code",
   "execution_count": 40,
   "id": "a4e86bf7",
   "metadata": {},
   "outputs": [],
   "source": [
    "cal = FourCal(2,4)"
   ]
  },
  {
   "cell_type": "code",
   "execution_count": 41,
   "id": "6f9980b7",
   "metadata": {},
   "outputs": [
    {
     "data": {
      "text/plain": [
       "2"
      ]
     },
     "execution_count": 41,
     "metadata": {},
     "output_type": "execute_result"
    }
   ],
   "source": [
    "cal.x"
   ]
  },
  {
   "cell_type": "code",
   "execution_count": 42,
   "id": "94ca4866",
   "metadata": {},
   "outputs": [
    {
     "data": {
      "text/plain": [
       "4"
      ]
     },
     "execution_count": 42,
     "metadata": {},
     "output_type": "execute_result"
    }
   ],
   "source": [
    "cal.y"
   ]
  },
  {
   "cell_type": "code",
   "execution_count": 43,
   "id": "a6b2d788",
   "metadata": {},
   "outputs": [
    {
     "data": {
      "text/plain": [
       "6"
      ]
     },
     "execution_count": 43,
     "metadata": {},
     "output_type": "execute_result"
    }
   ],
   "source": [
    "cal.addf()"
   ]
  },
  {
   "cell_type": "code",
   "execution_count": 44,
   "id": "c20165b8",
   "metadata": {},
   "outputs": [
    {
     "data": {
      "text/plain": [
       "0.5"
      ]
     },
     "execution_count": 44,
     "metadata": {},
     "output_type": "execute_result"
    }
   ],
   "source": [
    "cal.divf()"
   ]
  },
  {
   "cell_type": "code",
   "execution_count": null,
   "id": "69211d02",
   "metadata": {},
   "outputs": [],
   "source": []
  },
  {
   "cell_type": "code",
   "execution_count": 50,
   "id": "2f3c458d",
   "metadata": {},
   "outputs": [],
   "source": [
    "class FourCal1(FourCal):\n",
    "    def powf(self):\n",
    "        result = self.x**self.y\n",
    "        return result"
   ]
  },
  {
   "cell_type": "code",
   "execution_count": 51,
   "id": "dd9e0a99",
   "metadata": {},
   "outputs": [],
   "source": [
    "fc = FourCal1(2,4)"
   ]
  },
  {
   "cell_type": "code",
   "execution_count": 52,
   "id": "91836cc0",
   "metadata": {},
   "outputs": [
    {
     "data": {
      "text/plain": [
       "0.5"
      ]
     },
     "execution_count": 52,
     "metadata": {},
     "output_type": "execute_result"
    }
   ],
   "source": [
    "fc.divf()  # FourCal에서 상속한 메서드"
   ]
  },
  {
   "cell_type": "code",
   "execution_count": 53,
   "id": "7ecca89f",
   "metadata": {},
   "outputs": [
    {
     "data": {
      "text/plain": [
       "16"
      ]
     },
     "execution_count": 53,
     "metadata": {},
     "output_type": "execute_result"
    }
   ],
   "source": [
    "fc.powf()  # 자신 새로 정의한 메서드"
   ]
  },
  {
   "cell_type": "code",
   "execution_count": null,
   "id": "45c6d503",
   "metadata": {},
   "outputs": [],
   "source": []
  },
  {
   "cell_type": "code",
   "execution_count": 54,
   "id": "2b984745",
   "metadata": {},
   "outputs": [],
   "source": [
    "fc = FourCal1(2,0)"
   ]
  },
  {
   "cell_type": "code",
   "execution_count": 55,
   "id": "d1629de5",
   "metadata": {
    "collapsed": true
   },
   "outputs": [
    {
     "ename": "ZeroDivisionError",
     "evalue": "division by zero",
     "output_type": "error",
     "traceback": [
      "\u001b[1;31m---------------------------------------------------------------------------\u001b[0m",
      "\u001b[1;31mZeroDivisionError\u001b[0m                         Traceback (most recent call last)",
      "\u001b[1;32m~\\AppData\\Local\\Temp/ipykernel_9920/1119730951.py\u001b[0m in \u001b[0;36m<module>\u001b[1;34m\u001b[0m\n\u001b[1;32m----> 1\u001b[1;33m \u001b[0mfc\u001b[0m\u001b[1;33m.\u001b[0m\u001b[0mdivf\u001b[0m\u001b[1;33m(\u001b[0m\u001b[1;33m)\u001b[0m\u001b[1;33m\u001b[0m\u001b[1;33m\u001b[0m\u001b[0m\n\u001b[0m",
      "\u001b[1;32m~\\AppData\\Local\\Temp/ipykernel_9920/1586962406.py\u001b[0m in \u001b[0;36mdivf\u001b[1;34m(self)\u001b[0m\n\u001b[0;32m     14\u001b[0m \u001b[1;33m\u001b[0m\u001b[0m\n\u001b[0;32m     15\u001b[0m     \u001b[1;32mdef\u001b[0m \u001b[0mdivf\u001b[0m\u001b[1;33m(\u001b[0m\u001b[0mself\u001b[0m\u001b[1;33m)\u001b[0m\u001b[1;33m:\u001b[0m\u001b[1;33m\u001b[0m\u001b[1;33m\u001b[0m\u001b[0m\n\u001b[1;32m---> 16\u001b[1;33m         \u001b[0mresult\u001b[0m \u001b[1;33m=\u001b[0m \u001b[0mself\u001b[0m\u001b[1;33m.\u001b[0m\u001b[0mx\u001b[0m  \u001b[1;33m/\u001b[0m \u001b[0mself\u001b[0m\u001b[1;33m.\u001b[0m\u001b[0my\u001b[0m\u001b[1;33m\u001b[0m\u001b[1;33m\u001b[0m\u001b[0m\n\u001b[0m\u001b[0;32m     17\u001b[0m         \u001b[1;32mreturn\u001b[0m \u001b[0mresult\u001b[0m\u001b[1;33m\u001b[0m\u001b[1;33m\u001b[0m\u001b[0m\n\u001b[0;32m     18\u001b[0m \u001b[1;33m\u001b[0m\u001b[0m\n",
      "\u001b[1;31mZeroDivisionError\u001b[0m: division by zero"
     ]
    }
   ],
   "source": [
    "fc.divf()  # 2/0"
   ]
  },
  {
   "cell_type": "code",
   "execution_count": null,
   "id": "9926f8bb",
   "metadata": {},
   "outputs": [],
   "source": []
  },
  {
   "cell_type": "code",
   "execution_count": 56,
   "id": "fb4277c7",
   "metadata": {},
   "outputs": [],
   "source": [
    "# Override\n",
    "\n",
    "class SafeCal(FourCal):\n",
    "    def divf(self):      # 부모 클래스의 메소드를 새로이 정의 => override\n",
    "        if self.y == 0:\n",
    "            return 0\n",
    "        else:\n",
    "            return self.x/ self.y"
   ]
  },
  {
   "cell_type": "code",
   "execution_count": 58,
   "id": "ad88b4d9",
   "metadata": {},
   "outputs": [],
   "source": [
    "sc = SafeCal(2,0)"
   ]
  },
  {
   "cell_type": "code",
   "execution_count": 59,
   "id": "54139f27",
   "metadata": {},
   "outputs": [
    {
     "data": {
      "text/plain": [
       "0"
      ]
     },
     "execution_count": 59,
     "metadata": {},
     "output_type": "execute_result"
    }
   ],
   "source": [
    "sc.divf()"
   ]
  },
  {
   "cell_type": "code",
   "execution_count": null,
   "id": "e060aaa1",
   "metadata": {},
   "outputs": [],
   "source": []
  },
  {
   "cell_type": "code",
   "execution_count": 86,
   "id": "a8d13344",
   "metadata": {},
   "outputs": [],
   "source": [
    "# 클래스 메소드\n",
    "# 스테틱 메소드"
   ]
  },
  {
   "cell_type": "code",
   "execution_count": 60,
   "id": "fb02f205",
   "metadata": {},
   "outputs": [],
   "source": [
    "class Sam:\n",
    "    \n",
    "    data = 'python'  # 클래스 변수\n",
    "    \n",
    "    def __init__(self):\n",
    "        self.data1 = 'korea' # 인스턴스 변수\n",
    "        \n",
    "    def instance_method(self):\n",
    "        print('instance method :', self.data1)\n",
    "    \n",
    "    # 클래스 메소드, cls 키워드로 클래스 변수에 접근, 매개변수 cls를 받음\n",
    "    @classmethod\n",
    "    def class_method(cls):    \n",
    "        print('class method :', cls.data)\n",
    "#         print('class method :', cls.data1)  - 클래스 메소드는 인스턴스 변수 접근 불가\n",
    "        \n",
    "    # 스테틱 메소드, self, cls 매개변수를 받지 않음..\n",
    "    @staticmethod\n",
    "    def static_method():\n",
    "        print('static method :', Sam.data)\n",
    "#         print('class method :', cls.data1) - 스테틱 메소드는 인스턴스 변수 접근 불가"
   ]
  },
  {
   "cell_type": "code",
   "execution_count": 61,
   "id": "e90c0cac",
   "metadata": {},
   "outputs": [],
   "source": [
    "s = Sam()"
   ]
  },
  {
   "cell_type": "code",
   "execution_count": 62,
   "id": "01984281",
   "metadata": {},
   "outputs": [
    {
     "name": "stdout",
     "output_type": "stream",
     "text": [
      "instance method : korea\n",
      "class method : python\n",
      "static method : python\n"
     ]
    }
   ],
   "source": [
    "s.instance_method()\n",
    "Sam.class_method()\n",
    "Sam.static_method()"
   ]
  },
  {
   "cell_type": "code",
   "execution_count": null,
   "id": "f0960438",
   "metadata": {},
   "outputs": [],
   "source": [
    "# 클래스 메소드나 스테틱 메소드는 객체를 생성하지 않고 클래스명으로 바로 호출 가능..\n",
    "# 클래스 매소드와 스테틱 메소드는 클래스 변수에만 접근이 가능하다..\n",
    "\n",
    "# 클래스 메소드 cls키워드를 사용\n",
    "# 스테틱 메소드 cls를 사용하지 않고 클래스 명으로 호출한다.."
   ]
  },
  {
   "cell_type": "code",
   "execution_count": null,
   "id": "7cd25c81",
   "metadata": {},
   "outputs": [],
   "source": []
  },
  {
   "cell_type": "code",
   "execution_count": null,
   "id": "1647d5d6",
   "metadata": {},
   "outputs": [],
   "source": []
  },
  {
   "cell_type": "code",
   "execution_count": null,
   "id": "75f29db0",
   "metadata": {},
   "outputs": [],
   "source": [
    "# 학생리스트"
   ]
  },
  {
   "cell_type": "code",
   "execution_count": 106,
   "id": "85cf4f40",
   "metadata": {},
   "outputs": [],
   "source": [
    "students = [\n",
    "    {'name':'윤인성', 'korean':87, 'math':98, 'english':95, 'science':95},\n",
    "    {'name':'박민수', 'korean':88, 'math':98, 'english':64, 'science':95},\n",
    "    {'name':'박철호', 'korean':95, 'math':98, 'english':24, 'science':95},\n",
    "    {'name':'이호성', 'korean':75, 'math':98, 'english':85, 'science':95},\n",
    "    {'name':'최민수', 'korean':62, 'math':98, 'english':65, 'science':95},\n",
    "    {'name':'유인태', 'korean':76, 'math':98, 'english':81, 'science':95},\n",
    "]"
   ]
  },
  {
   "cell_type": "code",
   "execution_count": null,
   "id": "71dadf86",
   "metadata": {},
   "outputs": [],
   "source": [
    "# 이름     총점  평점\n",
    "# 윤인성   89     85\n",
    "# 박민수   87     98\n",
    "# ..."
   ]
  },
  {
   "cell_type": "code",
   "execution_count": 110,
   "id": "4f9e1f86",
   "metadata": {},
   "outputs": [
    {
     "name": "stdout",
     "output_type": "stream",
     "text": [
      "Name\tTotal\tAvg\n",
      "윤인성\t375\t93.75\n",
      "박민수\t345\t86.25\n",
      "박철호\t312\t78.0\n",
      "이호성\t353\t88.25\n",
      "최민수\t320\t80.0\n",
      "유인태\t350\t87.5\n"
     ]
    }
   ],
   "source": [
    "print('Name', 'Total', 'Avg', sep='\\t')\n",
    "for s in students:\n",
    "    suma = s['korean'] + s['math'] + s['english'] + s['science']\n",
    "    meana = suma/4\n",
    "    print(s['name'], suma, meana, sep='\\t')"
   ]
  },
  {
   "cell_type": "code",
   "execution_count": 114,
   "id": "018ce19c",
   "metadata": {},
   "outputs": [],
   "source": [
    "def create_student(name, kor, math, eng, sci):\n",
    "    return {'name':name, 'korean':kor, 'math':math, 'english':eng, 'science':sci}\n",
    "\n",
    "# create_student('윤인성', 87, 88, 96, 78)"
   ]
  },
  {
   "cell_type": "code",
   "execution_count": 112,
   "id": "738e8c3e",
   "metadata": {},
   "outputs": [],
   "source": [
    "def student_get_sum(s):\n",
    "    return s['korean'] + s['math'] + s['english'] + s['science']"
   ]
  },
  {
   "cell_type": "code",
   "execution_count": 113,
   "id": "c2c474c3",
   "metadata": {},
   "outputs": [],
   "source": [
    "def student_get_average(s):\n",
    "    return student_get_sum(s)/len(s)"
   ]
  },
  {
   "cell_type": "code",
   "execution_count": 115,
   "id": "c187e1d7",
   "metadata": {},
   "outputs": [],
   "source": [
    "def student_to_string(s):\n",
    "    return \"{}\\t{}\\t{}\".format(s['name'], student_get_sum(s), student_get_average(s))"
   ]
  },
  {
   "cell_type": "code",
   "execution_count": 118,
   "id": "f643645e",
   "metadata": {},
   "outputs": [
    {
     "name": "stdout",
     "output_type": "stream",
     "text": [
      "윤인성\t299\t74.75\n",
      "박척순\t297\t74.25\n",
      "김민수\t267\t66.75\n",
      "김도현\t297\t74.25\n",
      "박철순\t290\t72.5\n",
      "이민성\t257\t64.25\n"
     ]
    }
   ],
   "source": [
    "s = [\n",
    "    create_student('윤인성',89,87,89,34),\n",
    "    create_student('박척순',87,87,89,34),\n",
    "    create_student('김민수',56,87,89,35),\n",
    "    create_student('김도현',65,87,89,56),\n",
    "    create_student('박철순',47,87,89,67),\n",
    "    create_student('이민성',35,87,89,46),   \n",
    "]\n",
    "\n",
    "for i in s:\n",
    "    print(student_to_string(i))"
   ]
  },
  {
   "cell_type": "code",
   "execution_count": null,
   "id": "29cb57ce",
   "metadata": {},
   "outputs": [],
   "source": []
  },
  {
   "cell_type": "code",
   "execution_count": 121,
   "id": "f54881aa",
   "metadata": {},
   "outputs": [],
   "source": [
    "class Student:\n",
    "    def __init__(self, name, kor, math, eng, sci):\n",
    "        self.name = name\n",
    "        self.kor = kor\n",
    "        self.math = math\n",
    "        self.eng = eng\n",
    "        self.sci = sci\n",
    "        \n",
    "    def get_sum(self):\n",
    "        return self.kor + self.math + self.eng + self.eng + self.sci\n",
    "    \n",
    "    def get_average(self):\n",
    "        return self.get_sum()/4\n",
    "    \n",
    "    def to_string(self):\n",
    "        return \"{}\\t{}\\t{}\".format(self.name, self.get_sum(), self.get_average())"
   ]
  },
  {
   "cell_type": "code",
   "execution_count": 122,
   "id": "9a29a793",
   "metadata": {},
   "outputs": [
    {
     "name": "stdout",
     "output_type": "stream",
     "text": [
      "윤인성\t388\t97.0\n",
      "박척순\t386\t96.5\n",
      "김민수\t356\t89.0\n",
      "김도현\t386\t96.5\n",
      "박철순\t379\t94.75\n",
      "이민성\t346\t86.5\n"
     ]
    }
   ],
   "source": [
    "students = [\n",
    "    Student('윤인성',89,87,89,34),\n",
    "    Student('박척순',87,87,89,34),\n",
    "    Student('김민수',56,87,89,35),\n",
    "    Student('김도현',65,87,89,56),\n",
    "    Student('박철순',47,87,89,67),\n",
    "    Student('이민성',35,87,89,46),   \n",
    "]\n",
    "\n",
    "for s in students:\n",
    "    print(s.to_string())"
   ]
  },
  {
   "cell_type": "code",
   "execution_count": null,
   "id": "5435b58d",
   "metadata": {},
   "outputs": [],
   "source": []
  },
  {
   "cell_type": "code",
   "execution_count": 123,
   "id": "0f44a178",
   "metadata": {},
   "outputs": [],
   "source": [
    "# 은닉화\n",
    "# 클래스 내에서 변수의 값을 노출시키고 싶지 않을 때, 변수을 은닉화."
   ]
  },
  {
   "cell_type": "code",
   "execution_count": 63,
   "id": "a7826249",
   "metadata": {},
   "outputs": [],
   "source": [
    "import math\n",
    "\n",
    "class Circle:\n",
    "    def __init__(self, radius):  \n",
    "        # __변수명 : 외부에서 접근 금지. 클래스 내의 메소드에서만 접근이 가능\n",
    "        self.__radius = radius   \n",
    "    def get_circumference(self):\n",
    "        return 2 * math.pi * self.__radius\n",
    "    def get_area(self):\n",
    "        return math.pi * (self.__radius **2)\n",
    "    \n",
    "    # 게터와 세터\n",
    "    # 게터 : 은닉된 변수의 값을 얻어올 수 있는 메서도\n",
    "    # 세터 : 은닉된 변수의 값을 수정할 수 있도록 하는 메서도\n",
    "    @property   # getter  \n",
    "    def get_radius(self):\n",
    "        return self.__radius\n",
    "    \n",
    "    @get_radius.setter  # setter\n",
    "    def set_radius(self, value):\n",
    "        if value <= 0:\n",
    "            raise TypeError('길이는 양의 숫자이어야 합니다..')\n",
    "        self.__radius = value\n",
    "    "
   ]
  },
  {
   "cell_type": "code",
   "execution_count": 67,
   "id": "10b9c7c9",
   "metadata": {},
   "outputs": [],
   "source": [
    "cir = Circle(2)"
   ]
  },
  {
   "cell_type": "code",
   "execution_count": 68,
   "id": "82070450",
   "metadata": {},
   "outputs": [
    {
     "data": {
      "text/plain": [
       "12.566370614359172"
      ]
     },
     "execution_count": 68,
     "metadata": {},
     "output_type": "execute_result"
    }
   ],
   "source": [
    "cir.get_circumference()"
   ]
  },
  {
   "cell_type": "code",
   "execution_count": 69,
   "id": "b8bdd3a5",
   "metadata": {},
   "outputs": [
    {
     "data": {
      "text/plain": [
       "12.566370614359172"
      ]
     },
     "execution_count": 69,
     "metadata": {},
     "output_type": "execute_result"
    }
   ],
   "source": [
    "cir.get_area()"
   ]
  },
  {
   "cell_type": "code",
   "execution_count": 70,
   "id": "ab321c94",
   "metadata": {
    "collapsed": true
   },
   "outputs": [
    {
     "ename": "AttributeError",
     "evalue": "'Circle' object has no attribute '__radius'",
     "output_type": "error",
     "traceback": [
      "\u001b[1;31m---------------------------------------------------------------------------\u001b[0m",
      "\u001b[1;31mAttributeError\u001b[0m                            Traceback (most recent call last)",
      "\u001b[1;32m~\\AppData\\Local\\Temp/ipykernel_9920/3254489290.py\u001b[0m in \u001b[0;36m<module>\u001b[1;34m\u001b[0m\n\u001b[1;32m----> 1\u001b[1;33m \u001b[0mcir\u001b[0m\u001b[1;33m.\u001b[0m\u001b[0m__radius\u001b[0m  \u001b[1;31m# 외부에서 접근이 안 됨.\u001b[0m\u001b[1;33m\u001b[0m\u001b[1;33m\u001b[0m\u001b[0m\n\u001b[0m",
      "\u001b[1;31mAttributeError\u001b[0m: 'Circle' object has no attribute '__radius'"
     ]
    }
   ],
   "source": [
    "cir.__radius  # 외부에서 접근이 안 됨."
   ]
  },
  {
   "cell_type": "code",
   "execution_count": 71,
   "id": "464199ad",
   "metadata": {
    "collapsed": true
   },
   "outputs": [
    {
     "ename": "AttributeError",
     "evalue": "type object 'Circle' has no attribute '__radius'",
     "output_type": "error",
     "traceback": [
      "\u001b[1;31m---------------------------------------------------------------------------\u001b[0m",
      "\u001b[1;31mAttributeError\u001b[0m                            Traceback (most recent call last)",
      "\u001b[1;32m~\\AppData\\Local\\Temp/ipykernel_9920/1204164446.py\u001b[0m in \u001b[0;36m<module>\u001b[1;34m\u001b[0m\n\u001b[1;32m----> 1\u001b[1;33m \u001b[0mCircle\u001b[0m\u001b[1;33m.\u001b[0m\u001b[0m__radius\u001b[0m\u001b[1;33m\u001b[0m\u001b[1;33m\u001b[0m\u001b[0m\n\u001b[0m",
      "\u001b[1;31mAttributeError\u001b[0m: type object 'Circle' has no attribute '__radius'"
     ]
    }
   ],
   "source": [
    "Circle.__radius"
   ]
  },
  {
   "cell_type": "code",
   "execution_count": null,
   "id": "595dadb4",
   "metadata": {},
   "outputs": [],
   "source": []
  },
  {
   "cell_type": "code",
   "execution_count": 72,
   "id": "8259dfab",
   "metadata": {},
   "outputs": [
    {
     "data": {
      "text/plain": [
       "2"
      ]
     },
     "execution_count": 72,
     "metadata": {},
     "output_type": "execute_result"
    }
   ],
   "source": [
    "cir.get_radius"
   ]
  },
  {
   "cell_type": "code",
   "execution_count": 73,
   "id": "ca564f53",
   "metadata": {},
   "outputs": [],
   "source": [
    "cir.set_radius = 10"
   ]
  },
  {
   "cell_type": "code",
   "execution_count": 74,
   "id": "3866f042",
   "metadata": {},
   "outputs": [
    {
     "data": {
      "text/plain": [
       "10"
      ]
     },
     "execution_count": 74,
     "metadata": {},
     "output_type": "execute_result"
    }
   ],
   "source": [
    "cir.get_radius"
   ]
  },
  {
   "cell_type": "code",
   "execution_count": 75,
   "id": "dba26240",
   "metadata": {},
   "outputs": [
    {
     "data": {
      "text/plain": [
       "62.83185307179586"
      ]
     },
     "execution_count": 75,
     "metadata": {},
     "output_type": "execute_result"
    }
   ],
   "source": [
    "cir.get_circumference()"
   ]
  },
  {
   "cell_type": "code",
   "execution_count": 76,
   "id": "53e8787c",
   "metadata": {},
   "outputs": [
    {
     "data": {
      "text/plain": [
       "314.1592653589793"
      ]
     },
     "execution_count": 76,
     "metadata": {},
     "output_type": "execute_result"
    }
   ],
   "source": [
    "cir.get_area()"
   ]
  },
  {
   "cell_type": "code",
   "execution_count": null,
   "id": "a3920d54",
   "metadata": {},
   "outputs": [],
   "source": []
  }
 ],
 "metadata": {
  "kernelspec": {
   "display_name": "Python 3 (ipykernel)",
   "language": "python",
   "name": "python3"
  },
  "language_info": {
   "codemirror_mode": {
    "name": "ipython",
    "version": 3
   },
   "file_extension": ".py",
   "mimetype": "text/x-python",
   "name": "python",
   "nbconvert_exporter": "python",
   "pygments_lexer": "ipython3",
   "version": "3.9.7"
  }
 },
 "nbformat": 4,
 "nbformat_minor": 5
}
