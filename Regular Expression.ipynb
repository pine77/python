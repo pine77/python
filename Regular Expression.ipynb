{
 "cells": [
  {
   "cell_type": "markdown",
   "id": "7e8a5484",
   "metadata": {},
   "source": [
    "### 정규표현식\n",
    "* 특정 문자열의 패턴을 표현하는 식\n",
    "* 문자열 처리함수를 사용하는 것보다 복잡한 표현을 간결하게 표현"
   ]
  },
  {
   "cell_type": "code",
   "execution_count": 1,
   "id": "0c7c1375",
   "metadata": {},
   "outputs": [],
   "source": [
    "import re"
   ]
  },
  {
   "cell_type": "markdown",
   "id": "e9d20695",
   "metadata": {},
   "source": [
    "1. re.compile('정규표현식')\n",
    "* 정규표현식 패턴 객체 생성"
   ]
  },
  {
   "cell_type": "code",
   "execution_count": 3,
   "id": "08fbf7f1",
   "metadata": {},
   "outputs": [],
   "source": [
    "phonenum = re.compile(r'\\d\\d\\d-\\d\\d\\d-\\d\\d\\d\\d')  # \\d - 숫자, 정규표현식 객체 생성\n",
    "mo = phonenum.search('My number is 415-555-4242') # search 메소드 - 일치하는 패턴 리턴"
   ]
  },
  {
   "cell_type": "code",
   "execution_count": 4,
   "id": "101b402e",
   "metadata": {},
   "outputs": [
    {
     "data": {
      "text/plain": [
       "'415-555-4242'"
      ]
     },
     "execution_count": 4,
     "metadata": {},
     "output_type": "execute_result"
    }
   ],
   "source": [
    "mo.group()  # group 메소드 - 일치하는 패턴을 리턴.."
   ]
  },
  {
   "cell_type": "markdown",
   "id": "d68988cc",
   "metadata": {},
   "source": [
    "2. search() 메소드\n",
    "* 일치하는 패턴 중에 첫번째 패턴을 리턴.."
   ]
  },
  {
   "cell_type": "code",
   "execution_count": 5,
   "id": "8f9005c1",
   "metadata": {},
   "outputs": [
    {
     "data": {
      "text/plain": [
       "'415-555-4242'"
      ]
     },
     "execution_count": 5,
     "metadata": {},
     "output_type": "execute_result"
    }
   ],
   "source": [
    "phonenum = re.compile(r'\\d\\d\\d-\\d\\d\\d-\\d\\d\\d\\d')  \n",
    "mo = phonenum.search('My number is 415-555-4242. Your number is 214-895-8547') \n",
    "mo.group()"
   ]
  },
  {
   "cell_type": "code",
   "execution_count": 6,
   "id": "06e9d7f9",
   "metadata": {},
   "outputs": [
    {
     "data": {
      "text/plain": [
       "'415-555-4242'"
      ]
     },
     "execution_count": 6,
     "metadata": {},
     "output_type": "execute_result"
    }
   ],
   "source": [
    "# () - 패턴의 그룹을 생성\n",
    "\n",
    "phonenum = re.compile(r'(\\d\\d\\d)-(\\d\\d\\d-\\d\\d\\d\\d)')  \n",
    "mo = phonenum.search('My number is 415-555-4242. Your number is 214-895-8547') \n",
    "mo.group()"
   ]
  },
  {
   "cell_type": "code",
   "execution_count": 7,
   "id": "7b0603df",
   "metadata": {},
   "outputs": [
    {
     "data": {
      "text/plain": [
       "'415'"
      ]
     },
     "execution_count": 7,
     "metadata": {},
     "output_type": "execute_result"
    }
   ],
   "source": [
    "mo.group(1)"
   ]
  },
  {
   "cell_type": "code",
   "execution_count": 8,
   "id": "4b10180c",
   "metadata": {},
   "outputs": [
    {
     "data": {
      "text/plain": [
       "'555-4242'"
      ]
     },
     "execution_count": 8,
     "metadata": {},
     "output_type": "execute_result"
    }
   ],
   "source": [
    "mo.group(2)"
   ]
  },
  {
   "cell_type": "code",
   "execution_count": 10,
   "id": "d656bcda",
   "metadata": {},
   "outputs": [
    {
     "data": {
      "text/plain": [
       "'415'"
      ]
     },
     "execution_count": 10,
     "metadata": {},
     "output_type": "execute_result"
    }
   ],
   "source": [
    "mo.group().split('-')[0]"
   ]
  },
  {
   "cell_type": "code",
   "execution_count": null,
   "id": "17be29bb",
   "metadata": {},
   "outputs": [],
   "source": []
  },
  {
   "cell_type": "code",
   "execution_count": 11,
   "id": "0f7a17f3",
   "metadata": {},
   "outputs": [],
   "source": [
    "regex = re.compile(r'Batman|Tina Fey')  # '|' - or"
   ]
  },
  {
   "cell_type": "code",
   "execution_count": 12,
   "id": "ddc26ef8",
   "metadata": {},
   "outputs": [
    {
     "data": {
      "text/plain": [
       "'Batman'"
      ]
     },
     "execution_count": 12,
     "metadata": {},
     "output_type": "execute_result"
    }
   ],
   "source": [
    "mo = regex.search('Batman and Tina Fey')\n",
    "mo.group()"
   ]
  },
  {
   "cell_type": "code",
   "execution_count": null,
   "id": "fa1f1a0c",
   "metadata": {},
   "outputs": [],
   "source": []
  },
  {
   "cell_type": "code",
   "execution_count": 13,
   "id": "6addec68",
   "metadata": {},
   "outputs": [
    {
     "data": {
      "text/plain": [
       "'Batmobile'"
      ]
     },
     "execution_count": 13,
     "metadata": {},
     "output_type": "execute_result"
    }
   ],
   "source": [
    "regex = re.compile(r'Bat(man|mobile|copter|bat)')\n",
    "mo = regex.search('Batmobile lost a wheel!')\n",
    "mo.group()"
   ]
  },
  {
   "cell_type": "code",
   "execution_count": 15,
   "id": "64a40fb0",
   "metadata": {},
   "outputs": [
    {
     "data": {
      "text/plain": [
       "'Batman'"
      ]
     },
     "execution_count": 15,
     "metadata": {},
     "output_type": "execute_result"
    }
   ],
   "source": [
    "regex = re.compile(r'Bat(wo)?man')   # ?  패턴이 0번 또는 1번 반복되는 패턴\n",
    "mo = regex.search('The adventures of Batman')\n",
    "mo.group()"
   ]
  },
  {
   "cell_type": "code",
   "execution_count": 16,
   "id": "0d880112",
   "metadata": {},
   "outputs": [
    {
     "data": {
      "text/plain": [
       "'Batwoman'"
      ]
     },
     "execution_count": 16,
     "metadata": {},
     "output_type": "execute_result"
    }
   ],
   "source": [
    "regex = re.compile(r'Bat(wo)?man')   # ? 앞의 패턴이 0번 또는 1번 반복되는 패턴\n",
    "mo = regex.search('The adventures of Batwoman')\n",
    "mo.group()"
   ]
  },
  {
   "cell_type": "code",
   "execution_count": 17,
   "id": "e20c4849",
   "metadata": {
    "collapsed": true
   },
   "outputs": [
    {
     "ename": "AttributeError",
     "evalue": "'NoneType' object has no attribute 'group'",
     "output_type": "error",
     "traceback": [
      "\u001b[1;31m---------------------------------------------------------------------------\u001b[0m",
      "\u001b[1;31mAttributeError\u001b[0m                            Traceback (most recent call last)",
      "\u001b[1;32m~\\AppData\\Local\\Temp/ipykernel_7708/107678881.py\u001b[0m in \u001b[0;36m<module>\u001b[1;34m\u001b[0m\n\u001b[0;32m      1\u001b[0m \u001b[0mregex\u001b[0m \u001b[1;33m=\u001b[0m \u001b[0mre\u001b[0m\u001b[1;33m.\u001b[0m\u001b[0mcompile\u001b[0m\u001b[1;33m(\u001b[0m\u001b[1;34mr'Bat(wo)?man'\u001b[0m\u001b[1;33m)\u001b[0m   \u001b[1;31m# 앞의 패턴이 0번 또는 1번 반복되는 패턴\u001b[0m\u001b[1;33m\u001b[0m\u001b[1;33m\u001b[0m\u001b[0m\n\u001b[0;32m      2\u001b[0m \u001b[0mmo\u001b[0m \u001b[1;33m=\u001b[0m \u001b[0mregex\u001b[0m\u001b[1;33m.\u001b[0m\u001b[0msearch\u001b[0m\u001b[1;33m(\u001b[0m\u001b[1;34m'The adventures of Batwowoman'\u001b[0m\u001b[1;33m)\u001b[0m\u001b[1;33m\u001b[0m\u001b[1;33m\u001b[0m\u001b[0m\n\u001b[1;32m----> 3\u001b[1;33m \u001b[0mmo\u001b[0m\u001b[1;33m.\u001b[0m\u001b[0mgroup\u001b[0m\u001b[1;33m(\u001b[0m\u001b[1;33m)\u001b[0m\u001b[1;33m\u001b[0m\u001b[1;33m\u001b[0m\u001b[0m\n\u001b[0m",
      "\u001b[1;31mAttributeError\u001b[0m: 'NoneType' object has no attribute 'group'"
     ]
    }
   ],
   "source": [
    "regex = re.compile(r'Bat(wo)?man')   # ? 앞의 패턴이 0번 또는 1번 반복되는 패턴\n",
    "mo = regex.search('The adventures of Batwowoman')\n",
    "mo.group()"
   ]
  },
  {
   "cell_type": "code",
   "execution_count": null,
   "id": "879dc5ca",
   "metadata": {},
   "outputs": [],
   "source": []
  },
  {
   "cell_type": "code",
   "execution_count": 18,
   "id": "8af9fed0",
   "metadata": {
    "collapsed": true
   },
   "outputs": [
    {
     "ename": "AttributeError",
     "evalue": "'NoneType' object has no attribute 'group'",
     "output_type": "error",
     "traceback": [
      "\u001b[1;31m---------------------------------------------------------------------------\u001b[0m",
      "\u001b[1;31mAttributeError\u001b[0m                            Traceback (most recent call last)",
      "\u001b[1;32m~\\AppData\\Local\\Temp/ipykernel_7708/4021950924.py\u001b[0m in \u001b[0;36m<module>\u001b[1;34m\u001b[0m\n\u001b[0;32m      1\u001b[0m \u001b[0mregex\u001b[0m \u001b[1;33m=\u001b[0m \u001b[0mre\u001b[0m\u001b[1;33m.\u001b[0m\u001b[0mcompile\u001b[0m\u001b[1;33m(\u001b[0m\u001b[1;34mr'Bat(wo)+man'\u001b[0m\u001b[1;33m)\u001b[0m   \u001b[1;31m# 앞 패턴이 1번 이상 등장하는 패턴\u001b[0m\u001b[1;33m\u001b[0m\u001b[1;33m\u001b[0m\u001b[0m\n\u001b[0;32m      2\u001b[0m \u001b[0mmo\u001b[0m \u001b[1;33m=\u001b[0m \u001b[0mregex\u001b[0m\u001b[1;33m.\u001b[0m\u001b[0msearch\u001b[0m\u001b[1;33m(\u001b[0m\u001b[1;34m'The adventures of Batman'\u001b[0m\u001b[1;33m)\u001b[0m\u001b[1;33m\u001b[0m\u001b[1;33m\u001b[0m\u001b[0m\n\u001b[1;32m----> 3\u001b[1;33m \u001b[0mmo\u001b[0m\u001b[1;33m.\u001b[0m\u001b[0mgroup\u001b[0m\u001b[1;33m(\u001b[0m\u001b[1;33m)\u001b[0m\u001b[1;33m\u001b[0m\u001b[1;33m\u001b[0m\u001b[0m\n\u001b[0m",
      "\u001b[1;31mAttributeError\u001b[0m: 'NoneType' object has no attribute 'group'"
     ]
    }
   ],
   "source": [
    "regex = re.compile(r'Bat(wo)+man')   # + 앞 패턴이 1번 이상 등장하는 패턴\n",
    "mo = regex.search('The adventures of Batman')\n",
    "mo.group()"
   ]
  },
  {
   "cell_type": "code",
   "execution_count": 19,
   "id": "99aa70da",
   "metadata": {},
   "outputs": [
    {
     "data": {
      "text/plain": [
       "'Batwoman'"
      ]
     },
     "execution_count": 19,
     "metadata": {},
     "output_type": "execute_result"
    }
   ],
   "source": [
    "regex = re.compile(r'Bat(wo)+man')   # + 앞 패턴이 1번 이상 등장하는 패턴\n",
    "mo = regex.search('The adventures of Batwoman')\n",
    "mo.group()"
   ]
  },
  {
   "cell_type": "code",
   "execution_count": 20,
   "id": "cc4dabc4",
   "metadata": {},
   "outputs": [
    {
     "data": {
      "text/plain": [
       "'Batwowowoman'"
      ]
     },
     "execution_count": 20,
     "metadata": {},
     "output_type": "execute_result"
    }
   ],
   "source": [
    "regex = re.compile(r'Bat(wo)+man')   # + 앞 패턴이 1번 이상 등장하는 패턴\n",
    "mo = regex.search('The adventures of Batwowowoman')\n",
    "mo.group()"
   ]
  },
  {
   "cell_type": "code",
   "execution_count": null,
   "id": "ecd2907f",
   "metadata": {},
   "outputs": [],
   "source": []
  },
  {
   "cell_type": "code",
   "execution_count": 21,
   "id": "9fc4bc14",
   "metadata": {},
   "outputs": [
    {
     "data": {
      "text/plain": [
       "'Batman'"
      ]
     },
     "execution_count": 21,
     "metadata": {},
     "output_type": "execute_result"
    }
   ],
   "source": [
    "regex = re.compile(r'Bat(wo)*man')   # * 앞 패턴이 0번 이상 등장하는 패턴\n",
    "mo = regex.search('The adventures of Batman')\n",
    "mo.group()"
   ]
  },
  {
   "cell_type": "code",
   "execution_count": 22,
   "id": "09438c1d",
   "metadata": {},
   "outputs": [
    {
     "data": {
      "text/plain": [
       "'Batwoman'"
      ]
     },
     "execution_count": 22,
     "metadata": {},
     "output_type": "execute_result"
    }
   ],
   "source": [
    "regex = re.compile(r'Bat(wo)*man')   # * 앞 패턴이 0번 이상 등장하는 패턴\n",
    "mo = regex.search('The adventures of Batwoman')\n",
    "mo.group()"
   ]
  },
  {
   "cell_type": "code",
   "execution_count": 23,
   "id": "bfdb3ce6",
   "metadata": {},
   "outputs": [
    {
     "data": {
      "text/plain": [
       "'Batwowowoman'"
      ]
     },
     "execution_count": 23,
     "metadata": {},
     "output_type": "execute_result"
    }
   ],
   "source": [
    "regex = re.compile(r'Bat(wo)*man')   # * 앞 패턴이 0번 이상 등장하는 패턴\n",
    "mo = regex.search('The adventures of Batwowowoman')\n",
    "mo.group()"
   ]
  },
  {
   "cell_type": "code",
   "execution_count": null,
   "id": "abcb8d32",
   "metadata": {},
   "outputs": [],
   "source": []
  },
  {
   "cell_type": "code",
   "execution_count": 24,
   "id": "38998dc5",
   "metadata": {
    "collapsed": true
   },
   "outputs": [
    {
     "ename": "AttributeError",
     "evalue": "'NoneType' object has no attribute 'group'",
     "output_type": "error",
     "traceback": [
      "\u001b[1;31m---------------------------------------------------------------------------\u001b[0m",
      "\u001b[1;31mAttributeError\u001b[0m                            Traceback (most recent call last)",
      "\u001b[1;32m~\\AppData\\Local\\Temp/ipykernel_7708/2470179256.py\u001b[0m in \u001b[0;36m<module>\u001b[1;34m\u001b[0m\n\u001b[0;32m      1\u001b[0m \u001b[0mregex\u001b[0m \u001b[1;33m=\u001b[0m \u001b[0mre\u001b[0m\u001b[1;33m.\u001b[0m\u001b[0mcompile\u001b[0m\u001b[1;33m(\u001b[0m\u001b[1;34mr'Bat(wo){2}man'\u001b[0m\u001b[1;33m)\u001b[0m   \u001b[1;31m# {n} - 반복횟수를 지정\u001b[0m\u001b[1;33m\u001b[0m\u001b[1;33m\u001b[0m\u001b[0m\n\u001b[0;32m      2\u001b[0m \u001b[0mmo\u001b[0m \u001b[1;33m=\u001b[0m \u001b[0mregex\u001b[0m\u001b[1;33m.\u001b[0m\u001b[0msearch\u001b[0m\u001b[1;33m(\u001b[0m\u001b[1;34m'The adventures of Batman'\u001b[0m\u001b[1;33m)\u001b[0m\u001b[1;33m\u001b[0m\u001b[1;33m\u001b[0m\u001b[0m\n\u001b[1;32m----> 3\u001b[1;33m \u001b[0mmo\u001b[0m\u001b[1;33m.\u001b[0m\u001b[0mgroup\u001b[0m\u001b[1;33m(\u001b[0m\u001b[1;33m)\u001b[0m\u001b[1;33m\u001b[0m\u001b[1;33m\u001b[0m\u001b[0m\n\u001b[0m",
      "\u001b[1;31mAttributeError\u001b[0m: 'NoneType' object has no attribute 'group'"
     ]
    }
   ],
   "source": [
    "regex = re.compile(r'Bat(wo){2}man')   # {n} - 반복횟수를 지정\n",
    "mo = regex.search('The adventures of Batman')\n",
    "mo.group()"
   ]
  },
  {
   "cell_type": "code",
   "execution_count": 25,
   "id": "b1270641",
   "metadata": {},
   "outputs": [
    {
     "data": {
      "text/plain": [
       "'Batwowoman'"
      ]
     },
     "execution_count": 25,
     "metadata": {},
     "output_type": "execute_result"
    }
   ],
   "source": [
    "regex = re.compile(r'Bat(wo){2}man')   # {n} - 반복횟수를 지정\n",
    "mo = regex.search('The adventures of Batwowoman')\n",
    "mo.group()"
   ]
  },
  {
   "cell_type": "code",
   "execution_count": 26,
   "id": "68f186c1",
   "metadata": {},
   "outputs": [
    {
     "data": {
      "text/plain": [
       "'Batwowoman'"
      ]
     },
     "execution_count": 26,
     "metadata": {},
     "output_type": "execute_result"
    }
   ],
   "source": [
    "regex = re.compile(r'Bat(wo){2,4}man')   # {n,m} - 반복횟수 구간을 지정\n",
    "mo = regex.search('The adventures of Batwowoman')\n",
    "mo.group()"
   ]
  },
  {
   "cell_type": "code",
   "execution_count": 27,
   "id": "84644a5a",
   "metadata": {},
   "outputs": [
    {
     "data": {
      "text/plain": [
       "'Batwowowoman'"
      ]
     },
     "execution_count": 27,
     "metadata": {},
     "output_type": "execute_result"
    }
   ],
   "source": [
    "regex = re.compile(r'Bat(wo){2,4}man')   # {n,m} - 반복횟수 구간을 지정\n",
    "mo = regex.search('The adventures of Batwowowoman')\n",
    "mo.group()"
   ]
  },
  {
   "cell_type": "code",
   "execution_count": 28,
   "id": "7544ca53",
   "metadata": {
    "collapsed": true
   },
   "outputs": [
    {
     "ename": "AttributeError",
     "evalue": "'NoneType' object has no attribute 'group'",
     "output_type": "error",
     "traceback": [
      "\u001b[1;31m---------------------------------------------------------------------------\u001b[0m",
      "\u001b[1;31mAttributeError\u001b[0m                            Traceback (most recent call last)",
      "\u001b[1;32m~\\AppData\\Local\\Temp/ipykernel_7708/1034006939.py\u001b[0m in \u001b[0;36m<module>\u001b[1;34m\u001b[0m\n\u001b[0;32m      1\u001b[0m \u001b[0mregex\u001b[0m \u001b[1;33m=\u001b[0m \u001b[0mre\u001b[0m\u001b[1;33m.\u001b[0m\u001b[0mcompile\u001b[0m\u001b[1;33m(\u001b[0m\u001b[1;34mr'Bat(wo){2,4}man'\u001b[0m\u001b[1;33m)\u001b[0m   \u001b[1;31m# {n,m} - 반복횟수 구간을 지정\u001b[0m\u001b[1;33m\u001b[0m\u001b[1;33m\u001b[0m\u001b[0m\n\u001b[0;32m      2\u001b[0m \u001b[0mmo\u001b[0m \u001b[1;33m=\u001b[0m \u001b[0mregex\u001b[0m\u001b[1;33m.\u001b[0m\u001b[0msearch\u001b[0m\u001b[1;33m(\u001b[0m\u001b[1;34m'The adventures of Batwoman'\u001b[0m\u001b[1;33m)\u001b[0m\u001b[1;33m\u001b[0m\u001b[1;33m\u001b[0m\u001b[0m\n\u001b[1;32m----> 3\u001b[1;33m \u001b[0mmo\u001b[0m\u001b[1;33m.\u001b[0m\u001b[0mgroup\u001b[0m\u001b[1;33m(\u001b[0m\u001b[1;33m)\u001b[0m\u001b[1;33m\u001b[0m\u001b[1;33m\u001b[0m\u001b[0m\n\u001b[0m",
      "\u001b[1;31mAttributeError\u001b[0m: 'NoneType' object has no attribute 'group'"
     ]
    }
   ],
   "source": [
    "regex = re.compile(r'Bat(wo){2,4}man')   # {n,m} - 반복횟수 구간을 지정\n",
    "mo = regex.search('The adventures of Batwoman')\n",
    "mo.group()"
   ]
  },
  {
   "cell_type": "code",
   "execution_count": null,
   "id": "43c53839",
   "metadata": {},
   "outputs": [],
   "source": []
  },
  {
   "cell_type": "markdown",
   "id": "225b6899",
   "metadata": {},
   "source": [
    "3. findall() 메소드\n",
    "* 일치하는 모든 패턴을 리스트 형식으로 리턴"
   ]
  },
  {
   "cell_type": "code",
   "execution_count": 32,
   "id": "162368fd",
   "metadata": {},
   "outputs": [
    {
     "data": {
      "text/plain": [
       "'415-888-5478'"
      ]
     },
     "execution_count": 32,
     "metadata": {},
     "output_type": "execute_result"
    }
   ],
   "source": [
    "phonenum = re.compile(r'\\d\\d\\d-\\d\\d\\d-\\d\\d\\d\\d')  \n",
    "mo = phonenum.search('Call : 415-888-5478, work : 212-548-8965')\n",
    "mo.group()"
   ]
  },
  {
   "cell_type": "code",
   "execution_count": 33,
   "id": "cede314c",
   "metadata": {},
   "outputs": [
    {
     "data": {
      "text/plain": [
       "['415-888-5478', '212-548-8965']"
      ]
     },
     "execution_count": 33,
     "metadata": {},
     "output_type": "execute_result"
    }
   ],
   "source": [
    "phonenum = re.compile(r'\\d\\d\\d-\\d\\d\\d-\\d\\d\\d\\d')  \n",
    "phonenum.findall('Call : 415-888-5478, work : 212-548-8965')"
   ]
  },
  {
   "cell_type": "code",
   "execution_count": null,
   "id": "efcf3dd0",
   "metadata": {},
   "outputs": [],
   "source": []
  },
  {
   "cell_type": "code",
   "execution_count": 34,
   "id": "654627c8",
   "metadata": {},
   "outputs": [
    {
     "data": {
      "text/plain": [
       "['12 drummers', '11 pipers', '10 lords', '9 ladies', '8 maids', '6 eggs']"
      ]
     },
     "execution_count": 34,
     "metadata": {},
     "output_type": "execute_result"
    }
   ],
   "source": [
    "# \\d - 숫자, \\s - 스페이스,탭,줄바꿈, \\w - 문자, 숫자, _\n",
    "regex = re.compile(r'\\d+\\s\\w+') \n",
    "regex.findall('12 drummers, 11 pipers, 10 lords, 9 ladies, 8 maids, 6 eggs')"
   ]
  },
  {
   "cell_type": "code",
   "execution_count": null,
   "id": "eeacec54",
   "metadata": {},
   "outputs": [],
   "source": []
  },
  {
   "cell_type": "markdown",
   "id": "eabaa3ff",
   "metadata": {},
   "source": [
    "4. 사용자 정의 정규표현식 => []\n",
    "* 사용자가 임의로 정의하는 패턴\n",
    "* [aeiouAEIOU] => 영문자 모음\n",
    "* [a-zA-Z] => 영문자 소문자 대문자\n",
    "* [0-9] => 모든 숫자\n",
    "* '-' => 범위지정\n",
    "* ^ => 부정(not)"
   ]
  },
  {
   "cell_type": "code",
   "execution_count": 36,
   "id": "377ef39d",
   "metadata": {
    "collapsed": true
   },
   "outputs": [
    {
     "data": {
      "text/plain": [
       "['o', 'o', 'a', 'e', 'a', 'a', 'o', 'o', 'a', 'O', 'O']"
      ]
     },
     "execution_count": 36,
     "metadata": {},
     "output_type": "execute_result"
    }
   ],
   "source": [
    "regex = re.compile(r'[aeiouAEIOU]')\n",
    "regex.findall('Robocab eats baby food BaBy FOOD')"
   ]
  },
  {
   "cell_type": "code",
   "execution_count": 37,
   "id": "cf384388",
   "metadata": {
    "collapsed": true
   },
   "outputs": [
    {
     "data": {
      "text/plain": [
       "['R',\n",
       " 'b',\n",
       " 'c',\n",
       " 'b',\n",
       " ' ',\n",
       " 't',\n",
       " 's',\n",
       " ' ',\n",
       " 'b',\n",
       " 'b',\n",
       " 'y',\n",
       " ' ',\n",
       " 'f',\n",
       " 'd',\n",
       " ' ',\n",
       " 'B',\n",
       " 'B',\n",
       " 'y',\n",
       " ' ',\n",
       " 'F',\n",
       " 'D']"
      ]
     },
     "execution_count": 37,
     "metadata": {},
     "output_type": "execute_result"
    }
   ],
   "source": [
    "regex = re.compile(r'[^aeiouAEIOU]')\n",
    "regex.findall('Robocab eats baby food BaBy FOOD')"
   ]
  },
  {
   "cell_type": "code",
   "execution_count": null,
   "id": "e404cf41",
   "metadata": {},
   "outputs": [],
   "source": []
  },
  {
   "cell_type": "markdown",
   "id": "221c58a9",
   "metadata": {},
   "source": [
    "5. \n",
    "* ^ - 문자열의 시작 부분과 일치\n",
    "* $ - 문자열의 끝 부분과 일치"
   ]
  },
  {
   "cell_type": "code",
   "execution_count": 38,
   "id": "d5f4421a",
   "metadata": {},
   "outputs": [
    {
     "data": {
      "text/plain": [
       "['Hello']"
      ]
     },
     "execution_count": 38,
     "metadata": {},
     "output_type": "execute_result"
    }
   ],
   "source": [
    "regex = re.compile(r'^Hello')\n",
    "regex.findall('Hello world')"
   ]
  },
  {
   "cell_type": "code",
   "execution_count": 39,
   "id": "1995e124",
   "metadata": {},
   "outputs": [
    {
     "data": {
      "text/plain": [
       "[]"
      ]
     },
     "execution_count": 39,
     "metadata": {},
     "output_type": "execute_result"
    }
   ],
   "source": [
    "regex = re.compile(r'^Hello')\n",
    "regex.findall('python Hello')"
   ]
  },
  {
   "cell_type": "code",
   "execution_count": 40,
   "id": "55f7ba5f",
   "metadata": {},
   "outputs": [
    {
     "data": {
      "text/plain": [
       "['2']"
      ]
     },
     "execution_count": 40,
     "metadata": {},
     "output_type": "execute_result"
    }
   ],
   "source": [
    "regex = re.compile(r'\\d$')\n",
    "regex.findall('Your number5 is 42')"
   ]
  },
  {
   "cell_type": "code",
   "execution_count": 42,
   "id": "e8356ddd",
   "metadata": {},
   "outputs": [
    {
     "data": {
      "text/plain": [
       "['42']"
      ]
     },
     "execution_count": 42,
     "metadata": {},
     "output_type": "execute_result"
    }
   ],
   "source": [
    "regex = re.compile(r'\\d+$')\n",
    "regex.findall('Your number55 is 42')"
   ]
  },
  {
   "cell_type": "code",
   "execution_count": null,
   "id": "7789cfe2",
   "metadata": {},
   "outputs": [],
   "source": []
  },
  {
   "cell_type": "markdown",
   "id": "afc9fbb8",
   "metadata": {},
   "source": [
    "6. sub() \n",
    "* 매칭이 되는 문자열을 다른 값으로 대체.."
   ]
  },
  {
   "cell_type": "code",
   "execution_count": 46,
   "id": "6eb8ac14",
   "metadata": {},
   "outputs": [
    {
     "data": {
      "text/plain": [
       "'Censored gave the secret documents ot Censored'"
      ]
     },
     "execution_count": 46,
     "metadata": {},
     "output_type": "execute_result"
    }
   ],
   "source": [
    "regex = re.compile(r'Agent \\w+')\n",
    "regex.sub('Censored', 'Agent Alice gave the secret documents ot Agent Bob')"
   ]
  },
  {
   "cell_type": "code",
   "execution_count": 48,
   "id": "109fb46c",
   "metadata": {},
   "outputs": [
    {
     "data": {
      "text/plain": [
       "'Agent Al**** gave the secret documents ot Agent Bo****'"
      ]
     },
     "execution_count": 48,
     "metadata": {},
     "output_type": "execute_result"
    }
   ],
   "source": [
    "regex = re.compile(r'Agent (\\w{2})\\w*')\n",
    "regex.sub(r'Agent \\1****', 'Agent Alice gave the secret documents ot Agent Bob')"
   ]
  },
  {
   "cell_type": "code",
   "execution_count": null,
   "id": "692d94c5",
   "metadata": {},
   "outputs": [],
   "source": []
  },
  {
   "cell_type": "code",
   "execution_count": null,
   "id": "5bf69b38",
   "metadata": {},
   "outputs": [],
   "source": [
    "# # 반복\n",
    "# + - 한번 이상 등장하는 패턴\n",
    "# * - 0번 이상 등장하는 패턴\n",
    "# ? - 0번 또는 1번 등장하는 패턴\n",
    "# {} - 특정한 번복 횟수를 지정\n",
    "\n",
    "# # 사용자 정의 표현식\n",
    "# []\n",
    "# [aeiou] - 소문자 모음\n",
    "# [^xyz] - x, y, z를 제외한 패턴\n",
    "# \"-\" - 범위 지정\n",
    "# [a-zA-Z0-9] - 영 대소문자 및 숫자\n",
    "# ^ - not\n",
    "\n",
    "# # 주요 메소드\n",
    "# search - 패턴과 일치하는 첫 번째 문자열\n",
    "# findall - 패턴과 일치하는 모든 문자열\n",
    "# sub - 패턴과 일치하는 문자열을 다른 문자열로 대체\n",
    "\n",
    "# # 매칭\n",
    "# \".\" - 줄 바꿈 이외의 모든 한 개의 문자와 일치\n",
    "# \"^\" - 줄의 시작\n",
    "# \"$\" - 줄의 끝과 일치"
   ]
  },
  {
   "cell_type": "code",
   "execution_count": 49,
   "id": "ce3a952d",
   "metadata": {},
   "outputs": [],
   "source": [
    "import re"
   ]
  },
  {
   "cell_type": "code",
   "execution_count": 56,
   "id": "44941aca",
   "metadata": {},
   "outputs": [
    {
     "data": {
      "text/plain": [
       "['02-3454-7355']"
      ]
     },
     "execution_count": 56,
     "metadata": {},
     "output_type": "execute_result"
    }
   ],
   "source": [
    "# 전화번호를 출력..\n",
    "text = '문의사항은 02-3454-7355으로 연락주세요'\n",
    "\n",
    "regex = re.compile('\\d{2,3}-\\d+-\\d+')\n",
    "regex.findall(text)"
   ]
  },
  {
   "cell_type": "code",
   "execution_count": 57,
   "id": "192ce886",
   "metadata": {},
   "outputs": [
    {
     "data": {
      "text/plain": [
       "['02-3454-7355', '02-354-8547']"
      ]
     },
     "execution_count": 57,
     "metadata": {},
     "output_type": "execute_result"
    }
   ],
   "source": [
    "text = '문의사항은 02-3454-7355으로 연락주세요. 비상 시에는 02-354-8547로 연락주세요'\n",
    "\n",
    "regex = re.compile('\\d{2,3}-\\d+-\\d+')\n",
    "regex.findall(text)"
   ]
  },
  {
   "cell_type": "code",
   "execution_count": 59,
   "id": "add11fcb",
   "metadata": {},
   "outputs": [
    {
     "data": {
      "text/plain": [
       "['10', '234', '8']"
      ]
     },
     "execution_count": 59,
     "metadata": {},
     "output_type": "execute_result"
    }
   ],
   "source": [
    "# 숫자만 출력..\n",
    "regex = re.compile('[0-9]+')\n",
    "regex.findall('문자열 10 중간에 234 숫자가 8개 있습니다..')"
   ]
  },
  {
   "cell_type": "code",
   "execution_count": 60,
   "id": "66c765b9",
   "metadata": {},
   "outputs": [
    {
     "data": {
      "text/plain": [
       "['10', '234', '8']"
      ]
     },
     "execution_count": 60,
     "metadata": {},
     "output_type": "execute_result"
    }
   ],
   "source": [
    "regex = re.compile('\\d+')\n",
    "regex.findall('문자열 10 중간에 234 숫자가 8개 있습니다..')"
   ]
  },
  {
   "cell_type": "code",
   "execution_count": 62,
   "id": "b74051e7",
   "metadata": {},
   "outputs": [
    {
     "data": {
      "text/plain": [
       "['sky777@gamil.com']"
      ]
     },
     "execution_count": 62,
     "metadata": {},
     "output_type": "execute_result"
    }
   ],
   "source": [
    "# 이메일 찾기\n",
    "text = \"저의 이메일은 sky777@gamil.com입니다\"\n",
    "regex = re.compile('[a-zA-Z0-9_+.-]+@[a-zA-Z0-9]+\\.+[a-z0-9]{2,7}')\n",
    "regex.findall(text)"
   ]
  },
  {
   "cell_type": "code",
   "execution_count": 64,
   "id": "2ff23ecf",
   "metadata": {},
   "outputs": [
    {
     "data": {
      "text/plain": [
       "['sky777@gamil.com', 'sky777@bitcamp.company']"
      ]
     },
     "execution_count": 64,
     "metadata": {},
     "output_type": "execute_result"
    }
   ],
   "source": [
    "text = \"저의 이메일은 sky777@gamil.com입니다. 회사 이메일은 sky777@bitcamp.company\"\n",
    "regex = re.compile('[a-zA-Z0-9_+.-]+@[a-zA-Z0-9]+\\.[a-z0-9]{2,7}')\n",
    "regex.findall(text)"
   ]
  },
  {
   "cell_type": "code",
   "execution_count": 72,
   "id": "d4d5988d",
   "metadata": {},
   "outputs": [
    {
     "data": {
      "text/plain": [
       "['http://www.home.com', 'https://www.firm.com']"
      ]
     },
     "execution_count": 72,
     "metadata": {},
     "output_type": "execute_result"
    }
   ],
   "source": [
    "# url 추출\n",
    "\n",
    "text = '저의 홈페이지는 http://www.home.com입니다. \\\n",
    "회사 홈페이지는 https://www.firm.com입니다'\n",
    "\n",
    "regex = re.compile('http[s]?://w{3}\\.[a-zA-Z0-9]*\\.[a-z]*')\n",
    "regex.findall(text)"
   ]
  },
  {
   "cell_type": "code",
   "execution_count": 74,
   "id": "61243ffc",
   "metadata": {},
   "outputs": [
    {
     "data": {
      "text/plain": [
       "['123456.78']"
      ]
     },
     "execution_count": 74,
     "metadata": {},
     "output_type": "execute_result"
    }
   ],
   "source": [
    "# 금액만 추출\n",
    "text = '총 금액은 123456.78원 입니다..'\n",
    "\n",
    "re.findall('\\d+\\.\\d*', text)"
   ]
  },
  {
   "cell_type": "code",
   "execution_count": 76,
   "id": "63f681f9",
   "metadata": {},
   "outputs": [
    {
     "data": {
      "text/plain": [
       "['2015년 2월 15일', '2017년 08월 22일']"
      ]
     },
     "execution_count": 76,
     "metadata": {},
     "output_type": "execute_result"
    }
   ],
   "source": [
    "# 날짜만 추출\n",
    "text = '계약 시작일 2015년 2월 15일, 계약 종료일 2017년 08월 22일'\n",
    "\n",
    "re.findall('\\d+년 \\d+월 \\d+일', text)"
   ]
  },
  {
   "cell_type": "code",
   "execution_count": null,
   "id": "9f858237",
   "metadata": {},
   "outputs": [],
   "source": []
  },
  {
   "cell_type": "code",
   "execution_count": 77,
   "id": "dd6e07e6",
   "metadata": {},
   "outputs": [
    {
     "data": {
      "text/plain": [
       "'계약 시작일 **년 **월 **일, 계약 종료일 **년 **월 **일'"
      ]
     },
     "execution_count": 77,
     "metadata": {},
     "output_type": "execute_result"
    }
   ],
   "source": [
    "# 날짜만 변경\n",
    "text = '계약 시작일 2015년 2월 15일, 계약 종료일 2017년 08월 22일'\n",
    "\n",
    "re.sub('((\\d+)년 (\\d+)월 (\\d+)일)', '**년 **월 **일', text)"
   ]
  },
  {
   "cell_type": "code",
   "execution_count": null,
   "id": "c75bd138",
   "metadata": {},
   "outputs": [],
   "source": []
  },
  {
   "cell_type": "code",
   "execution_count": 79,
   "id": "2f756195",
   "metadata": {},
   "outputs": [
    {
     "data": {
      "text/plain": [
       "['223.62.180.95', '211.244.131.169', '192.5.90.39']"
      ]
     },
     "execution_count": 79,
     "metadata": {},
     "output_type": "execute_result"
    }
   ],
   "source": [
    "log_data = \"\"\"\n",
    "223.62.180.95 - - [07/Mar/2014:00:00:06 +0900] \"GET /trapi/mts/Check.jsp HTTP/1.1\" 200 3293\n",
    "211.244.131.169 - - [07/Mar/2014:00:00:19 +0900] \"GET /trapi/mts/Check.jsp HTTP/1.1\" 200 3293\n",
    "192.5.90.39 - - [07/Mar/2014:00:00:26 +0900] \"GET / HTTP/1.1\" 200 1964\n",
    "\"\"\"\n",
    "\n",
    "# IP만 추출하기..\n",
    "regex = re.compile('\\d+\\.\\d+\\.\\d+\\.\\d+')\n",
    "regex.findall(log_data)"
   ]
  },
  {
   "cell_type": "code",
   "execution_count": 84,
   "id": "e94a9774",
   "metadata": {},
   "outputs": [
    {
     "data": {
      "text/plain": [
       "['223.62.180.95', '211.244.131.169', '192.5.90.39']"
      ]
     },
     "execution_count": 84,
     "metadata": {},
     "output_type": "execute_result"
    }
   ],
   "source": [
    "import numpy as np\n",
    "regex = re.compile('((\\d+\\.){3}\\d+)')\n",
    "np.array(regex.findall(log_data))[:,0].tolist()"
   ]
  },
  {
   "cell_type": "code",
   "execution_count": null,
   "id": "e53212b2",
   "metadata": {},
   "outputs": [],
   "source": []
  },
  {
   "cell_type": "code",
   "execution_count": null,
   "id": "9634d256",
   "metadata": {},
   "outputs": [],
   "source": []
  },
  {
   "cell_type": "code",
   "execution_count": null,
   "id": "c47ba461",
   "metadata": {},
   "outputs": [],
   "source": []
  },
  {
   "cell_type": "code",
   "execution_count": null,
   "id": "cdfaf564",
   "metadata": {},
   "outputs": [],
   "source": []
  }
 ],
 "metadata": {
  "kernelspec": {
   "display_name": "Python 3 (ipykernel)",
   "language": "python",
   "name": "python3"
  },
  "language_info": {
   "codemirror_mode": {
    "name": "ipython",
    "version": 3
   },
   "file_extension": ".py",
   "mimetype": "text/x-python",
   "name": "python",
   "nbconvert_exporter": "python",
   "pygments_lexer": "ipython3",
   "version": "3.9.7"
  }
 },
 "nbformat": 4,
 "nbformat_minor": 5
}
